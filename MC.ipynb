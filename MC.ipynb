{
 "cells": [
  {
   "cell_type": "code",
   "execution_count": 1,
   "metadata": {
    "collapsed": false
   },
   "outputs": [],
   "source": [
    "%reload_ext snakeviz\n",
    "%run 'MC.py'"
   ]
  },
  {
   "cell_type": "code",
   "execution_count": 162,
   "metadata": {
    "collapsed": false
   },
   "outputs": [
    {
     "data": {
      "text/plain": [
       "[<0,0,0>,\n",
       " <0,1,0>,\n",
       " <0,2,0>,\n",
       " <0,3,0>,\n",
       " <1,0,0>,\n",
       " <1,1,0>,\n",
       " <1,0,1>,\n",
       " <1,1,1>,\n",
       " <2,0,0>,\n",
       " <2,0,1>,\n",
       " <2,0,2>,\n",
       " <2,0,3>]"
      ]
     },
     "execution_count": 162,
     "metadata": {},
     "output_type": "execute_result"
    }
   ],
   "source": [
    "lattice(4).sites"
   ]
  },
  {
   "cell_type": "code",
   "execution_count": 261,
   "metadata": {
    "collapsed": false
   },
   "outputs": [
    {
     "data": {
      "text/plain": [
       "[[3, 2, 2, 1, 1, 2],\n",
       " [2, 3, 1, 2, 2, 1],\n",
       " [2, 1, 3, 2, 2, 1],\n",
       " [1, 2, 2, 3, 1, 2],\n",
       " [1, 2, 2, 1, 3, 2],\n",
       " [2, 1, 1, 2, 2, 3]]"
      ]
     },
     "execution_count": 261,
     "metadata": {},
     "output_type": "execute_result"
    }
   ],
   "source": [
    "group(3).chi"
   ]
  },
  {
   "cell_type": "code",
   "execution_count": 128,
   "metadata": {
    "collapsed": true
   },
   "outputs": [],
   "source": [
    "class model(object):\n",
    "    def __init__(self):\n",
    "        self.dof = 0 # onsite degrees of freedom\n",
    "        self.Nsite = 0 # number of sites\n",
    "        self.config = [] # configuration\n",
    "        self.chi = numpy.array([[0]]) # chi table, as numpy array\n",
    "        self.H = [[]] # Hamiltonian in row compressed storage\n",
    "        self.route = [] # update route\n",
    "        self.boundary = [] # boundary sites\n",
    "    # one step of MC update\n",
    "    def MCstep(self):\n",
    "        # each MC step goes over the update route once\n",
    "        for i in self.route:\n",
    "            h = sum(J*self.chi[self.config[j]] for j, J in self.H[i])\n",
    "            w = numpy.exp(h)\n",
    "            self.config[i] = numpy.random.choice(self.dof,p=w/sum(w))\n",
    "    # calculate energy of the system by config\n",
    "    def energy(self):\n",
    "        energy = 0\n",
    "        for i in range(self.Nsite):\n",
    "            chii = self.chi[self.config[i]]\n",
    "            energy -= sum(J*chii[self.config[j]] for j, J in self.H[i])\n",
    "        return energy\n",
    "class hypertree_model(model):\n",
    "    def __init__(self, L=0, dof=0, Js=(1.,1.), branches=2):\n",
    "        # setup the lattice\n",
    "        latt = lattice(L, branches=branches)\n",
    "        # setup the permutation group\n",
    "        G = group(dof)\n",
    "        # initialization\n",
    "        self.dof = dof\n",
    "        self.Nsite = latt.Nsite\n",
    "        self.config = [0]*latt.Nsite\n",
    "        # chi is adjusted by dof\n",
    "        self.chi = numpy.array(G.chi)-self.dof\n",
    "        # build Hamiltonian\n",
    "        self.H = [[] for i in range(latt.Nsite)]\n",
    "        for i in range(latt.Nsite):\n",
    "            a = latt.sites[i] # take site i\n",
    "            bs = a.IR # get its IR sites\n",
    "            for b, J in zip(bs, Js):\n",
    "                j = b.index\n",
    "                self.H[i].append((j,J))\n",
    "                self.H[j].append((i,J))\n",
    "        # assign update route (use the sublattice structure)\n",
    "        self.route = []\n",
    "        for key in ('odd','even'):\n",
    "            for a in latt.sublattice[key]:\n",
    "                self.route.append(a.index)\n",
    "        # assign boundary sites\n",
    "        self.boundary = [a.index for a in latt.sublattice['boundary']]"
   ]
  },
  {
   "cell_type": "code",
   "execution_count": 129,
   "metadata": {
    "collapsed": false
   },
   "outputs": [
    {
     "name": "stdout",
     "output_type": "stream",
     "text": [
      "[0, 1, 2, 3, 4, 5, 6, 7, 8, 9, 10, 11]\n",
      "[0, 0, 0, 0, 0, 0, 0, 1, 0, 0, 0, 1] 2.6\n",
      "[0, 0, 0, 0, 0, 0, 0, 0, 0, 1, 0, 0] 0.4\n",
      "[0, 0, 0, 0, 1, 0, 0, 0, 1, 0, 0, 1] 6.6\n",
      "[0, 0, 0, 0, 0, 0, 0, 0, 0, 0, 0, 0] 0.0\n",
      "[0, 0, 0, 0, 0, 0, 0, 0, 0, 0, 0, 1] 0.4\n",
      "[0, 0, 0, 0, 0, 0, 0, 1, 0, 1, 0, 1] 3.0\n",
      "[0, 0, 0, 0, 0, 0, 0, 0, 0, 1, 0, 0] 0.4\n",
      "[0, 0, 0, 0, 0, 0, 0, 0, 0, 1, 0, 1] 0.8\n",
      "[0, 0, 0, 0, 0, 0, 0, 0, 1, 1, 0, 0] 4.4\n",
      "[0, 0, 0, 0, 1, 0, 0, 1, 1, 1, 1, 0] 8.8\n"
     ]
    }
   ],
   "source": [
    "sys = hypertree_model(4,2,(1.,0.1))\n",
    "print(list(range(sys.Nsite)))\n",
    "for step in range(10):\n",
    "    sys.MCstep()\n",
    "    print(sys.config, sys.energy())"
   ]
  },
  {
   "cell_type": "code",
   "execution_count": 5,
   "metadata": {
    "collapsed": false
   },
   "outputs": [
    {
     "name": "stdout",
     "output_type": "stream",
     "text": [
      " \n",
      "*** Profile stats marshalled to file '/var/folders/lt/kgph6qbj6y306pfhbyd1kn2r0000gn/T/tmp8o5xy2ge'. \n"
     ]
    }
   ],
   "source": [
    "def test():\n",
    "    sys = hypertree_model(128,2,(1.,0.1))\n",
    "    energies = []\n",
    "    for step in range(32):\n",
    "        sys.MCstep()\n",
    "        energies.append(sys.energy())\n",
    "%snakeviz test()"
   ]
  },
  {
   "cell_type": "code",
   "execution_count": 3,
   "metadata": {
    "collapsed": false
   },
   "outputs": [
    {
     "name": "stdout",
     "output_type": "stream",
     "text": [
      " \n",
      "*** Profile stats marshalled to file '/var/folders/lt/kgph6qbj6y306pfhbyd1kn2r0000gn/T/tmp7so6qwno'. \n"
     ]
    }
   ],
   "source": []
  },
  {
   "cell_type": "code",
   "execution_count": 326,
   "metadata": {
    "collapsed": false
   },
   "outputs": [],
   "source": []
  },
  {
   "cell_type": "code",
   "execution_count": null,
   "metadata": {
    "collapsed": true
   },
   "outputs": [],
   "source": []
  }
 ],
 "metadata": {
  "kernelspec": {
   "display_name": "Python 3",
   "language": "python",
   "name": "python3"
  },
  "language_info": {
   "codemirror_mode": {
    "name": "ipython",
    "version": 3
   },
   "file_extension": ".py",
   "mimetype": "text/x-python",
   "name": "python",
   "nbconvert_exporter": "python",
   "pygments_lexer": "ipython3",
   "version": "3.5.1"
  }
 },
 "nbformat": 4,
 "nbformat_minor": 0
}
