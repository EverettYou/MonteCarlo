{
 "cells": [
  {
   "cell_type": "code",
   "execution_count": 16,
   "metadata": {
    "collapsed": false
   },
   "outputs": [],
   "source": [
    "%reload_ext snakeviz\n",
    "%run 'MC.py'"
   ]
  },
  {
   "cell_type": "code",
   "execution_count": 30,
   "metadata": {
    "collapsed": false
   },
   "outputs": [
    {
     "data": {
      "text/plain": [
       "9"
      ]
     },
     "execution_count": 30,
     "metadata": {},
     "output_type": "execute_result"
    }
   ],
   "source": [
    "lattice(8)[(1,0,1)].index"
   ]
  },
  {
   "cell_type": "code",
   "execution_count": 2,
   "metadata": {
    "collapsed": false
   },
   "outputs": [
    {
     "data": {
      "text/plain": [
       "[(0, 1, 2), (0, 2, 1), (1, 0, 2), (1, 2, 0), (2, 0, 1), (2, 1, 0)]"
      ]
     },
     "execution_count": 2,
     "metadata": {},
     "output_type": "execute_result"
    }
   ],
   "source": [
    "group(3).elements"
   ]
  },
  {
   "cell_type": "code",
   "execution_count": 29,
   "metadata": {
    "collapsed": false
   },
   "outputs": [
    {
     "name": "stdout",
     "output_type": "stream",
     "text": [
      "[0, 1, 2, 3, 4, 5, 6, 7, 8, 9, 10, 11]\n",
      "[0, 0, 0, 0, 0, 0, 0, 0, 0, 1, 0, 0]\n",
      "[0, 0, 0, 0, 0, 0, 0, 0, 0, 1, 0, 1]\n",
      "[0, 0, 0, 0, 0, 1, 0, 0, 0, 0, 0, 1]\n",
      "[0, 0, 0, 0, 0, 0, 0, 0, 1, 0, 0, 1]\n",
      "[0, 0, 0, 0, 1, 1, 0, 1, 1, 1, 1, 0]\n",
      "[0, 0, 0, 0, 0, 0, 1, 1, 0, 0, 1, 1]\n",
      "[0, 0, 0, 0, 0, 0, 0, 1, 0, 1, 1, 1]\n",
      "[0, 0, 0, 0, 0, 0, 1, 0, 0, 1, 1, 0]\n",
      "[0, 0, 0, 0, 0, 0, 0, 0, 0, 0, 0, 1]\n",
      "[0, 0, 0, 0, 0, 0, 1, 0, 1, 0, 1, 1]\n"
     ]
    }
   ],
   "source": [
    "sys = hypertree_model(4,2,(1.,0.1))\n",
    "print(list(range(sys.Nsite)))\n",
    "for step in range(10):\n",
    "    sys.MCstep()\n",
    "    print(sys.config)#, sys.energy())"
   ]
  },
  {
   "cell_type": "code",
   "execution_count": 38,
   "metadata": {
    "collapsed": false
   },
   "outputs": [
    {
     "name": "stdout",
     "output_type": "stream",
     "text": [
      " \n",
      "*** Profile stats marshalled to file '/var/folders/lt/kgph6qbj6y306pfhbyd1kn2r0000gn/T/tmpbklz1_ur'. \n"
     ]
    }
   ],
   "source": [
    "def test():\n",
    "    sys = hypertree_model(128,2,(1.,0.1))\n",
    "    #energies = []\n",
    "    for step in range(32):\n",
    "        sys.MCstep()\n",
    "        #energies.append(sys.energy())\n",
    "%snakeviz test()"
   ]
  },
  {
   "cell_type": "code",
   "execution_count": 17,
   "metadata": {
    "collapsed": false
   },
   "outputs": [
    {
     "name": "stdout",
     "output_type": "stream",
     "text": [
      " \n",
      "*** Profile stats marshalled to file '/var/folders/lt/kgph6qbj6y306pfhbyd1kn2r0000gn/T/tmp3m3zubth'. \n"
     ]
    }
   ],
   "source": [
    "def test():\n",
    "    sys = hypertree_model(128,2,(1.,0.1))\n",
    "    #energies = []\n",
    "    for step in range(32):\n",
    "        sys.MCstep()\n",
    "        #energies.append(sys.energy())\n",
    "%snakeviz test()"
   ]
  },
  {
   "cell_type": "code",
   "execution_count": 10,
   "metadata": {
    "collapsed": false
   },
   "outputs": [],
   "source": [
    "%run 'MC.py'\n",
    "import MC\n",
    "class model(object):\n",
    "    def __init__(self):\n",
    "        MC.core.init()\n",
    "    def config(self):\n",
    "        return MC.core.config-1\n",
    "    def MCstep(self):\n",
    "        MC.core.MCstep()\n",
    "class hypertree_model(model):\n",
    "    def __init__(self, L=0, n=0, Ks=(1.,1.), branches=2):\n",
    "        # setup the lattice\n",
    "        latt = lattice(L, branches=branches)\n",
    "        self.latt = latt\n",
    "        # setup the permutation group\n",
    "        grp = group(n)\n",
    "        self.grp = grp\n",
    "        dof = grp.order\n",
    "        # passing data to FORTRAN MC core\n",
    "        MC.core.dof = dof\n",
    "        MC.core.Nsite = latt.Nsite\n",
    "        MC.core.NA, MC.core.NB, MC.core.NC = latt.NA, latt.NB, latt.NC\n",
    "        # initialize configuration\n",
    "        MC.core.config = numpy.array([1]*latt.Nsite)\n",
    "        # chi is adjusted by dof\n",
    "        MC.core.chi = numpy.array(grp.chi)-dof\n",
    "        # build Hamiltonian\n",
    "        H = []\n",
    "        for a in latt:\n",
    "            i = a.index # take site a index\n",
    "            bs = a.IR # get its IR sites\n",
    "            for b, K in zip(bs, Ks):\n",
    "                j = b.index # take site b index\n",
    "                H.append((i,j,K))\n",
    "                H.append((j,i,K))\n",
    "        ilst, jlst, Klst = tuple(zip(*sorted(H)))\n",
    "        MC.core.irng = self.make_irng(ilst)+1\n",
    "        MC.core.jlst = numpy.array(jlst)+1\n",
    "        MC.core.Klst = numpy.array(Klst)\n",
    "        model.__init__(self)\n",
    "    # convert ilst to irng\n",
    "    def make_irng(self, ilst):\n",
    "        imax = 0\n",
    "        irng = [0]\n",
    "        for k, i in zip(range(len(ilst)),ilst):\n",
    "            while i > imax:\n",
    "                irng.append(k)\n",
    "                imax += 1\n",
    "        irng.append(k+1)\n",
    "        return numpy.array(irng)"
   ]
  },
  {
   "cell_type": "code",
   "execution_count": 11,
   "metadata": {
    "collapsed": false
   },
   "outputs": [
    {
     "data": {
      "text/plain": [
       "array([0, 0, 0, 0, 0, 0, 0, 0, 0, 0, 0, 0], dtype=int32)"
      ]
     },
     "execution_count": 11,
     "metadata": {},
     "output_type": "execute_result"
    }
   ],
   "source": [
    "sys = hypertree_model(4,2,(1.,0.2))\n",
    "sys.config()"
   ]
  },
  {
   "cell_type": "code",
   "execution_count": 8,
   "metadata": {
    "collapsed": false
   },
   "outputs": [
    {
     "data": {
      "text/plain": [
       "array([2, 1, 1, 1, 1, 1, 1, 1, 1, 1, 1, 1], dtype=int32)"
      ]
     },
     "execution_count": 8,
     "metadata": {},
     "output_type": "execute_result"
    }
   ],
   "source": [
    "MC.core.MCstep()\n",
    "MC.core.config"
   ]
  },
  {
   "cell_type": "code",
   "execution_count": 4,
   "metadata": {
    "collapsed": false
   },
   "outputs": [
    {
     "name": "stdout",
     "output_type": "stream",
     "text": [
      "This module 'MC' is auto-generated with f2py (version:2).\n",
      "Functions:\n",
      "Fortran 90/95 modules:\n",
      "  core --- config,irng,jlst,dof,Klst,NA,NC,NB,chi,Nsite,init(),MCstep(),dump(),load().\n"
     ]
    }
   ],
   "source": [
    "import MC\n",
    "print(MC.__doc__)"
   ]
  },
  {
   "cell_type": "code",
   "execution_count": 8,
   "metadata": {
    "collapsed": false
   },
   "outputs": [],
   "source": [
    "MC.core.config[1]=1"
   ]
  },
  {
   "cell_type": "code",
   "execution_count": 8,
   "metadata": {
    "collapsed": false
   },
   "outputs": [],
   "source": [
    "MC.core.dump()"
   ]
  },
  {
   "cell_type": "code",
   "execution_count": 13,
   "metadata": {
    "collapsed": false
   },
   "outputs": [
    {
     "data": {
      "text/plain": [
       "array([0, 1, 1, 0, 0, 0, 0, 0, 0, 0, 0, 0], dtype=int32)"
      ]
     },
     "execution_count": 13,
     "metadata": {},
     "output_type": "execute_result"
    }
   ],
   "source": [
    "sys.MCstep()\n",
    "sys.config()"
   ]
  },
  {
   "cell_type": "code",
   "execution_count": 4,
   "metadata": {
    "collapsed": false
   },
   "outputs": [
    {
     "data": {
      "text/plain": [
       "dtype('int64')"
      ]
     },
     "execution_count": 4,
     "metadata": {},
     "output_type": "execute_result"
    }
   ],
   "source": [
    "numpy.array([1,2,3])"
   ]
  },
  {
   "cell_type": "code",
   "execution_count": null,
   "metadata": {
    "collapsed": true
   },
   "outputs": [],
   "source": []
  }
 ],
 "metadata": {
  "kernelspec": {
   "display_name": "Python 3",
   "language": "python",
   "name": "python3"
  },
  "language_info": {
   "codemirror_mode": {
    "name": "ipython",
    "version": 3
   },
   "file_extension": ".py",
   "mimetype": "text/x-python",
   "name": "python",
   "nbconvert_exporter": "python",
   "pygments_lexer": "ipython3",
   "version": "3.5.1"
  }
 },
 "nbformat": 4,
 "nbformat_minor": 0
}
