{
 "cells": [
  {
   "cell_type": "markdown",
   "metadata": {},
   "source": [
    "# Classical Monte Carlo of $S_N$ Model on Hypertree Lattice"
   ]
  },
  {
   "cell_type": "markdown",
   "metadata": {},
   "source": [
    "## Statistical Mechanics"
   ]
  },
  {
   "cell_type": "markdown",
   "metadata": {},
   "source": [
    "### Generic Model\n",
    "The most general StatMech model we consider is specified by the following ingredients:\n",
    "* **Lattice**: we will only consider *bipartite* lattice, on which the block Gibbs sampling can be carried out.\n",
    " * The bipartite lattice contains two **sublattices** labeled by *A* and *B*.\n",
    " * The **boundary**, labeled by *C*, refers to the sites that will not be updated in Monte Carlo. The boundary configuration is fixed by the boundary condition and will not be updated. \n",
    "* **Group**: on each site, the degree of freedom is a permutation group element $g_i\\in S_n$, which we will called the \"spin\" hereinafter.\n",
    " * Each spin state will be represented as a vector in the canonical representation of $S_n$. For example, for $S_2$ group: $|()\\rangle=(1,0)^\\intercal$, $|(12)\\rangle=(0,1)^\\intercal.$\n",
    "* **Hamiltonian**:\n",
    "$$H[g] = -\\sum_{\\langle ij\\rangle} K_{ij}\\chi(g_i,g_j),$$\n",
    "where $\\chi(g_i,g_j)=\\text{Tr}g_i^{-1}g_j$ is the group character (the number of cycles). The partition function is given by\n",
    "$$Z = -\\sum_{[g|A\\cup B]}e^{-H[g]} = e^{-F[g|C]}.$$\n",
    "With given boundary, the free energy $F$ is a function of the boundary configuration."
   ]
  },
  {
   "cell_type": "markdown",
   "metadata": {},
   "source": [
    "### Monte Carlo Algorithm\n",
    "The basic idea of importance sampling is to set up a suitable Markov chain that draws configurations according to the Boltzmann weight\n",
    "$$P[g] = \\frac{e^{-H[g]}}{Z}.$$\n",
    "There are two classes of update schemes:\n",
    "* Local update algorithms (Metropolis, **Heat-Bath**)\n",
    "* Cluster update algorithms (Swendsen-Wang Cluster, Wolff Cluster)\n",
    "\n",
    "The cluster update greately reduces the dynamic scaling at the critical point, which speed up the convergence in the critical region. Cluster update works well for Potts model, where the spins interacts via delta function: such that the domain wall between all different spins are of the same tension (energy). In the Wolff cluster algorithm, a site is first choosen, and neighboring sites of the same spin can attach to the cluster with probability $p$ (sites of different spins should not attach), and finally the whole cluster is flipped. The transition rate can satisfy the detail balance because the intereial weight is the same ($=p^{C-1}$ where $C$ is number of cluster site, this is because the cluster is grown following a tree, and all trees are equivalent in bond number if the site number is fixed), so the only difference is on the boundary. There are two types of cluster boundaries: boudaries between different spins (of tension 0) and boundary between same spins (of tension $-\\ln p$). After flipping, the two types of boundary will switch their positions, so it can match the detail balance condition. More precisely, the partition function for $n$-state Potts model can be cast into\n",
    "$$Z\\propto\\sum_{\\text{config}}p^{\\text{#link}}n^{\\text{#cluster}}.$$\n",
    "This is due to the nice delta function structure. However for our $S_n$ model, the delta interaction is soften in some sense. Then the partition function no longer has the nice link and cluster structure, which make it hard to do cluster update.\n",
    "\n",
    "While it remains a question of <font color='red'>how to design a cluster update algorithm for $S_n$ model</font>, we will try the local update first, in particular the heat-bath update. The current code uses **block Gibbs sampling** + **heat-bath update**, alternatively sampling on A and B sublattices.\n",
    "\n",
    "Question: <font color='red'>How to determine equilibrium?</font>"
   ]
  },
  {
   "cell_type": "markdown",
   "metadata": {},
   "source": [
    "### Temperature Profiling\n",
    "\n",
    "Question: <font color='red'>How to calculate free energy?</font>"
   ]
  },
  {
   "cell_type": "markdown",
   "metadata": {},
   "source": [
    "## Code Structure\n",
    "Objects:\n",
    "* **Group**\n",
    "* **Lattice** (HypertreeLattice)\n",
    "* **Model** (LatticeModel)\n",
    "    * Wrapper of the FORTRAN extension MC (provides interface for data transfer and control)."
   ]
  },
  {
   "cell_type": "code",
   "execution_count": 10,
   "metadata": {
    "collapsed": false
   },
   "outputs": [],
   "source": [
    "%reload_ext snakeviz\n",
    "%run 'MC.py'"
   ]
  },
  {
   "cell_type": "markdown",
   "metadata": {},
   "source": [
    "### <code>Group</code> Object"
   ]
  },
  {
   "cell_type": "markdown",
   "metadata": {},
   "source": [
    "`Group(n)` represents a permutation group $S_n$.\n",
    "* Each element is a tuple of $n$ numbers, representing the permutation of $(0,1,...,n-1)$.\n",
    "* `Group.dof` gives the order of the group, i.e. $n!$, which is also the degrees of freedom on each site.\n",
    "* `Group.chi` the table of $\\chi(g_1,g_2)$ (adjusted by $-n$).\n",
    "* `Group.element` gives the list of all group elements.\n",
    "* `Group.index` is a dictionary that maps group element to its index.\n",
    "\n",
    "After initialization, `Group.dof` and `Group.chi` should have been set."
   ]
  },
  {
   "cell_type": "code",
   "execution_count": 2,
   "metadata": {
    "collapsed": false
   },
   "outputs": [
    {
     "data": {
      "text/plain": [
       "[[0, 1, 2, 3, 4, 5],\n",
       " [1, 0, 4, 5, 2, 3],\n",
       " [2, 3, 0, 1, 5, 4],\n",
       " [3, 2, 5, 4, 0, 1],\n",
       " [4, 5, 1, 0, 3, 2],\n",
       " [5, 4, 3, 2, 1, 0]]"
      ]
     },
     "execution_count": 2,
     "metadata": {},
     "output_type": "execute_result"
    }
   ],
   "source": [
    "'''multiplication table'''\n",
    "group = Group(3)\n",
    "[[group.index[group.multiply(g,h)] for h in group] for g in group]"
   ]
  },
  {
   "cell_type": "code",
   "execution_count": 8,
   "metadata": {
    "collapsed": false
   },
   "outputs": [
    {
     "data": {
      "text/plain": [
       "[0, 0, 0, 0, 0, 0]"
      ]
     },
     "execution_count": 8,
     "metadata": {},
     "output_type": "execute_result"
    }
   ],
   "source": [
    "'''check group inversion'''\n",
    "[group.index[group.multiply(g, group.inverse(g))] for g in group]"
   ]
  },
  {
   "cell_type": "code",
   "execution_count": 3,
   "metadata": {
    "collapsed": false
   },
   "outputs": [
    {
     "data": {
      "text/plain": [
       "{(0, 1, 2): 3,\n",
       " (0, 2, 1): 2,\n",
       " (1, 0, 2): 2,\n",
       " (1, 2, 0): 1,\n",
       " (2, 0, 1): 1,\n",
       " (2, 1, 0): 2}"
      ]
     },
     "execution_count": 3,
     "metadata": {},
     "output_type": "execute_result"
    }
   ],
   "source": [
    "'''characters'''\n",
    "{g: group.character(g) for g in group}"
   ]
  },
  {
   "cell_type": "markdown",
   "metadata": {},
   "source": [
    "The character of a permutation is defined as the number of cycles in the permutation, denoted as $\\ln\\text{Tr}g$, ranging from $1$ to $n$. Upon initialization, the <code>Group</code> object generates the table of\n",
    "$$\\chi(g_1,g_2)=\\ln\\text{Tr} g_1 g_2^{-1}-n.$$\n",
    "One can show that $\\chi(g_1,g_2)=\\chi(g_2,g_1)$ and $\\forall g: \\chi(gg_1,gg_2)=\\chi(g_1g,g_2g)=\\chi(g_1,g_2)$.\n",
    "* This is the interaction function between two spins across a bond.\n",
    "* The shift $-n$ is needed to avoid partition weight overflow at low temperature. "
   ]
  },
  {
   "cell_type": "code",
   "execution_count": 4,
   "metadata": {
    "collapsed": false
   },
   "outputs": [
    {
     "data": {
      "text/plain": [
       "[[0, -1, -1, -2, -2, -1],\n",
       " [-1, 0, -2, -1, -1, -2],\n",
       " [-1, -2, 0, -1, -1, -2],\n",
       " [-2, -1, -1, 0, -2, -1],\n",
       " [-2, -1, -1, -2, 0, -1],\n",
       " [-1, -2, -2, -1, -1, 0]]"
      ]
     },
     "execution_count": 4,
     "metadata": {},
     "output_type": "execute_result"
    }
   ],
   "source": [
    "Group(3).chi"
   ]
  },
  {
   "cell_type": "markdown",
   "metadata": {},
   "source": [
    "### <code>Lattice</code> Object"
   ]
  },
  {
   "cell_type": "markdown",
   "metadata": {},
   "source": [
    "Site arranging rules: AB must before C, because will not allocate for C, contineous space for AB, within each sublattice dont scatter around."
   ]
  },
  {
   "cell_type": "code",
   "execution_count": 2,
   "metadata": {
    "collapsed": false
   },
   "outputs": [
    {
     "data": {
      "text/plain": [
       "[<2,0,0>, <2,1,0>, <2,2,0>, <2,3,0>, <1,0,0>, <1,0,1>, <1,1,0>, <1,1,1>, <0,0,0>, <0,0,1>, <0,0,2>, <0,0,3>]"
      ]
     },
     "execution_count": 2,
     "metadata": {},
     "output_type": "execute_result"
    }
   ],
   "source": [
    "HypertreeLattice(4)"
   ]
  },
  {
   "cell_type": "markdown",
   "metadata": {},
   "source": [
    "### <code>Model</code> Object"
   ]
  },
  {
   "cell_type": "markdown",
   "metadata": {},
   "source": [
    "The CPU intensive Monte Carlo samplings are performed by the FORTRAN extension MC. The module MC contains two parts:\n",
    "* core (for MC sampling and update macroscopic observibles)\n",
    "* physics (for data collection and measurements)\n",
    "\n",
    "The Model object is a python wapper for the MC module."
   ]
  },
  {
   "cell_type": "code",
   "execution_count": 5,
   "metadata": {
    "collapsed": false
   },
   "outputs": [
    {
     "name": "stdout",
     "output_type": "stream",
     "text": [
      "This module 'MC' is auto-generated with f2py (version:2).\n",
      "Functions:\n",
      "Fortran 90/95 modules:\n",
      "  core --- nc,nlst,nsite,chi,irng,nb,dof,klst,energy,config,na,jlst,hist,init(),run(),get_energy(),get_hist(),dump(),load()  physics --- magnet2,nspin,monitor,energy1,energy2,spins,magnet1,measure().\n"
     ]
    }
   ],
   "source": [
    "print(MC.__doc__)"
   ]
  },
  {
   "cell_type": "markdown",
   "metadata": {},
   "source": [
    "#### Attributes\n",
    "\n",
    "The three-block data structure: system, state and data.\n",
    "- **`system`**: static, not changed during MC update, defines the system. \n",
    "  - The full set of system parameters are specified by the Model class attribute `Model.system_parameters`\n",
    "  - During the temperature ramping, only `klst` will change. The other parameters are fixed by the lattice graph and on-site group.\n",
    "- **`state`**: dynamic, updated by MC sampling.\n",
    "  - Can be kept for future restart of the Markov chain.\n",
    "- **`data`**: disposible, generated by the `measure` method."
   ]
  },
  {
   "cell_type": "markdown",
   "metadata": {},
   "source": [
    "Mapping the attributes between **MC** (**FORTRAN** module) and **Model** (**python** object):\n",
    "- The system and state parameters are linked (as inout) between MC and Model.\n",
    "- The data parameters are output from MC to Model after each measurement.\n",
    "\n",
    "\n",
    "    MC                                                        Model\n",
    "    +- MC.core                                   Model.system[:] -+\n",
    "    |  +- MC.core.dof                   <==> Model.dof        -+  |\n",
    "    |  +- MC.core.nsite                 <==> Model.nsite      -+  |\n",
    "    |  +- MC.core.na                    <==> Model.na         -+  |\n",
    "    |  +- MC.core.nb                    <==> Model.nb         -+  |\n",
    "    |  +- MC.core.nc                    <==> Model.nc         -+  |\n",
    "    |  +- MC.core.nlst                  <==> Model.nlst       -+  |\n",
    "    |  +- MC.core.chi[:dof,:dof]        <==> Model.chi        -+  |\n",
    "    |  +- MC.core.irng[:nsite+1]        <==> Model.irng       -+  |\n",
    "    |  +- MC.core.jlst[:nlst]           <==> Model.jlst       -+  |\n",
    "    |  +- MC.core.klst[:nlst]           <==> Model.klst       -+  |\n",
    "    |  |                                          Model.state[:] -+\n",
    "    |  +- MC.core.config[:nsite]        <==> Model.config     -+  |\n",
    "    |  +- MC.core.energy                <==> Model.energy     -+  |\n",
    "    |  +- MC.core.hist[:dof]            <==> Model.hist       -+  |\n",
    "    +- MC.physics                                                 |\n",
    "       +- MC.physics.nspin                                        |\n",
    "       +- MC.physics.monitor[:nspin]               Model.data[:] -+\n",
    "       +- MC.physics.energy1            ===> Model.data[energy1]\n",
    "       +- MC.physics.energy2            ===> Model.data[energy2]\n",
    "       +- MC.physics.magnet1[:dof]      ===> Model.data[magnet1]\n",
    "       +- MC.physics.magnet2[:dof,:dof] ===> Model.data[magnet2]\n",
    "       +- MC.physics.spins[:dof,:nspin] ===> Model.data[spins]\n",
    "                                             Model.data[steps]       "
   ]
  },
  {
   "cell_type": "markdown",
   "metadata": {},
   "source": [
    "Notes:\n",
    "- The `Model` attributes *do not physically exist*. They are accessed by `getattr` and `setattr` methods. The system and state attributes can be set as a whole by passing the dictionary. The data attributs are read only, setting `Model.data` will not affect the variables in the MC module.\n",
    "- `Model` object provides **state parameter parsing**.\n",
    "  - `config`: 'FM', 'uniform' = initialize with 0's; 'PM', 'random' = initialize with random spins from `range(dof)`.\n",
    "  - `energy`: 'unknown', 'nan' = set energy to nan (which is a flag telling MC that the energy has not be calculated yet).\n",
    "  - `hist`: 'unknown' = set hist to empty with hist[0]=-1 (which is a flag telling MC that the histogram has not been collected yet).\n",
    "- When attribute getter is called to get `energy` and `hist`, it is first checked whether they have been calculated, if not, will evoke MC module (by calling `MC.core.get_energy()` or `.get_hist()`) to calculate and then return."
   ]
  },
  {
   "cell_type": "markdown",
   "metadata": {},
   "source": [
    "#### Methods\n",
    "\n",
    "`Model.run(steps, mode)` runs the MC updates for specific `steps`, under the `mode`:\n",
    "- `mode = 0` (default): update without keeping track of the `energy` and `hist`.\n",
    "- `mode = 1`: `energy` and `hist` are updated with the MC run at every spin flip.\n",
    "\n",
    "`Model.measure(step, monitor)` runs MC updates for specific `steps`, and returns the measurement on the samples of:\n",
    "- energy 1st and 2nd moment: $\\langle E\\rangle$, $\\langle E^2\\rangle$\n",
    "- total magnetization 1st and 2nd moment: $\\langle M\\rangle$, $\\langle M^2\\rangle$ (where $M=N_{A\\cup B}^{-1}\\sum_{i\\in A\\cup B} g_i$ and $g_i$ is represented as a vector in the canonical representation).\n",
    "  - the 2nd moment $\\langle M^2\\rangle$ is a matrix, containing infomations of cross correlation.\n",
    "- specific spins (averged over samples), spin indices are specified by <code>monitor</code>, and the number of spin to monitor is specified by <code>nspin</code>.\n",
    "- the number of steps (samples) is also returned, such that the data can be combined with previous measurements properly, as weighted by the number of samples."
   ]
  },
  {
   "cell_type": "markdown",
   "metadata": {},
   "source": [
    "#### Core Performance\n",
    "\n",
    "**Heat-Bath** update: on each site $i$, randomly draw a new spin state $g_i$ (regardless of the previous spin state) with probability:\n",
    "$$p(g_i)=\\frac{e^{h(g_i)}}{\\sum_{g'_i}e^{h(g'_i)}}, h(g_i)=\\sum_{j \\text{n.n.}i}K_{ij}\\chi(g_i,g_j).$$\n",
    "\n",
    "**Block-Gibbs** sampling: spins in the same sublattice are block-updated.\n",
    "- For A sublattice: `I=1:NA`\n",
    "- For B sublattice: `I=NA+1:NA+NB`."
   ]
  },
  {
   "cell_type": "markdown",
   "metadata": {},
   "source": [
    "FROTRAN implementation (for each spin update):\n",
    "- `RAND_NUMBER`: initialize `RND` by a random real drawn from the uniform distribution in $[0,1]$. gfortran implements KISS random number generator, $2^{123}$.\n",
    "- `SET_BLOCK`: sets the cumulated weights and renoralized random real\n",
    "  - `SET_BIAS`: calculate the on-site bias fields (site indexed by `I`) as `sum(CHI[:,CONFIG[JLST[J]]]*KLST[J] for J in range(IRNG[I],IRNG[I+1]))`. The result is a vector of `DOF` components, which specify the bias field for all group elements.\n",
    "  - `SET_WEIGHT`: exponentiate the bias fields and accumulate to unormalized CDF weights. The time of this step can vary from 4ns to 10ns depending on the value of the exponent. `EXP(x)` has a quick return for `x=0` but slower for generic `x`. The last compunent is the total partition weight.\n",
    "  - `RND *= WEIGHT[-1]`: the random real is then multiplied by the total partition weight, such that it is distributed uniformly from 0 to the total weight.\n",
    "- `CHOOSE`: `WEIGHT` and `RND` is then used to make choice of the new spin state, implemented by a binary serach to determine which bin in `WEIGHT` does `RND` fall into."
   ]
  },
  {
   "cell_type": "markdown",
   "metadata": {},
   "source": [
    "In each step (sweep) of MC sampling, the *entire bulk is updated* (which contains two block Gibbs sampling: A-given-B and B-given-A). Measurements are made after the bulk update, so the measurement time is neglegable. For one MC step, the complexity depends on:\n",
    "- $N$ - the number of bulk sites.\n",
    "- $n!$ - group order (onsite degrees of freedom)."
   ]
  },
  {
   "cell_type": "markdown",
   "metadata": {},
   "source": [
    "<table align=\"left\">\n",
    "<tr><td>procedure</td><td>complexity</td><td>time (ns)</td></tr>\n",
    "<tr><td><code>RAND_NUMBER</code></td><td>$N$</td><td>13.8</td></tr>\n",
    "<tr><td><code>SET_BLOCK</code></td><td>$Nn!$</td><td>12.1</td></tr>\n",
    "<tr><td><code>    SET_BIAS</code></td><td>$Nn!$</td><td>2.3</td></tr>\n",
    "<tr><td><code>    SET_WEIGHT</code></td><td>$Nn!$</td><td>9.8</td></tr>\n",
    "<tr><td><code>        EXP</code></td><td>$Nn!$</td><td>8.0</td></tr>\n",
    "<tr><td><code>    RND</code></td><td>$N$</td><td>2.1</td></tr>\n",
    "<tr><td><code>CHOOSE</code></td><td>$N\\log(n!)$</td><td>5.6</td></tr>\n",
    "</table>"
   ]
  },
  {
   "cell_type": "markdown",
   "metadata": {},
   "source": [
    "Average update time per spin scales with $n$ as:\n",
    "<table align=\"left\">\n",
    "<tr><td>$n=$</td><td>2</td><td>3</td><td>4</td><td>5</td><td>6</td></tr>\n",
    "<tr><td>time(μs)</td><td>0.056</td><td>0.12</td><td>0.35</td><td>1.52</td><td>9.13</td></tr>\n",
    "</table>"
   ]
  },
  {
   "cell_type": "markdown",
   "metadata": {},
   "source": [
    "## Hypertree Model"
   ]
  },
  {
   "cell_type": "markdown",
   "metadata": {},
   "source": [
    "### Example\n",
    "Generate model, run, get hist and energy, make measurements.\n",
    "- use **block Gibbs sampling** + **heatbath update**, alternatively sampling on A and B sublattices.\n",
    "  - A sublattice is the one that contains the most UV layer\n",
    "  - B sublattice contains the rest\n",
    "  - the boundary is labeled by C\n",
    "- energy is calculated for all sites including the boundary spins.\n",
    "- hist and magnetization only conts the bulk spins, boundary spins are not taken into account."
   ]
  },
  {
   "cell_type": "code",
   "execution_count": 2,
   "metadata": {
    "collapsed": false
   },
   "outputs": [
    {
     "name": "stdout",
     "output_type": "stream",
     "text": [
      "[0 2 0 1 0 0 5 1 0 0 0 0] [4 2 1 0 0 1] 5.199999999999999\n",
      "[0 3 3 3 0 5 1 3 0 0 0 0] [2 1 0 4 0 1] 7.599999999999999\n",
      "[4 1 3 1 1 0 2 1 0 0 0 0] [1 4 1 1 1 0] 9.999999999999998\n",
      "[0 2 0 3 0 0 2 0 0 0 0 0] [5 0 2 1 0 0] 3.9999999999999987\n",
      "[2 0 0 3 0 5 2 2 0 0 0 0] [3 0 3 1 0 1] 9.999999999999996\n",
      "[0 5 2 2 0 0 3 2 0 0 0 0] [3 0 3 1 0 1] 4.399999999999997\n",
      "[0 3 2 3 0 0 2 2 0 0 0 0] [3 0 3 2 0 0] 3.5999999999999974\n",
      "[1 2 2 4 0 0 0 0 0 0 0 0] [4 1 2 0 1 0] 6.799999999999999\n",
      "[1 2 0 1 4 0 0 0 0 0 0 0] [4 2 1 0 1 0] 8.399999999999999\n",
      "[0 5 0 5 0 1 5 0 0 0 0 0] [4 1 0 0 0 3] 6.799999999999997\n"
     ]
    },
    {
     "data": {
      "text/plain": [
       "{'energy1': 6.492800000000001,\n",
       " 'energy2': 47.164479999999934,\n",
       " 'magnet1': array([ 0.416   ,  0.12875 ,  0.141375,  0.08725 ,  0.0875  ,  0.139125]),\n",
       " 'magnet2': array([[ 0.20721875,  0.04709375,  0.05221875,  0.03079688,  0.0299375 ,\n",
       "          0.04873438],\n",
       "        [ 0.04709375,  0.0350625 ,  0.01214063,  0.00970312,  0.009875  ,\n",
       "          0.014875  ],\n",
       "        [ 0.05221875,  0.01214063,  0.04076562,  0.01082812,  0.01059375,\n",
       "          0.01482812],\n",
       "        [ 0.03079688,  0.00970312,  0.01082812,  0.01996875,  0.0056875 ,\n",
       "          0.01026563],\n",
       "        [ 0.0299375 ,  0.009875  ,  0.01059375,  0.0056875 ,  0.02109375,\n",
       "          0.0103125 ],\n",
       "        [ 0.04873438,  0.014875  ,  0.01482812,  0.01026563,  0.0103125 ,\n",
       "          0.04010938]]),\n",
       " 'spins': array([[ 0.578,  0.252,  0.234,  0.166],\n",
       "        [ 0.092,  0.162,  0.152,  0.172],\n",
       "        [ 0.124,  0.167,  0.179,  0.172],\n",
       "        [ 0.033,  0.127,  0.14 ,  0.162],\n",
       "        [ 0.037,  0.118,  0.136,  0.161],\n",
       "        [ 0.136,  0.174,  0.159,  0.167]]),\n",
       " 'steps': 1000}"
      ]
     },
     "execution_count": 2,
     "metadata": {},
     "output_type": "execute_result"
    }
   ],
   "source": [
    "sys = LatticeModel(HypertreeLattice(4,[1.,0.2]),Group(3)).run(100)\n",
    "for k in range(10):\n",
    "    sys.run(mode = 1)\n",
    "    print(sys.config,sys.hist,sys.energy)\n",
    "sys.measure(1000,monitor=[0,1,2,3])"
   ]
  },
  {
   "cell_type": "markdown",
   "metadata": {},
   "source": [
    "### Profiling"
   ]
  },
  {
   "cell_type": "code",
   "execution_count": 5,
   "metadata": {
    "collapsed": false
   },
   "outputs": [
    {
     "name": "stdout",
     "output_type": "stream",
     "text": [
      " \n",
      "*** Profile stats marshalled to file '/var/folders/lt/kgph6qbj6y306pfhbyd1kn2r0000gn/T/tmpg6at70en'. \n"
     ]
    }
   ],
   "source": [
    "%reload_ext snakeviz\n",
    "%run 'MC.py'\n",
    "%snakeviz LatticeModel(HypertreeLattice(128,[1.,1.]),Group(6)).run(10000,0)"
   ]
  },
  {
   "cell_type": "code",
   "execution_count": null,
   "metadata": {
    "collapsed": false
   },
   "outputs": [],
   "source": []
  },
  {
   "cell_type": "code",
   "execution_count": null,
   "metadata": {
    "collapsed": true
   },
   "outputs": [],
   "source": []
  }
 ],
 "metadata": {
  "kernelspec": {
   "display_name": "Python 3",
   "language": "python",
   "name": "python3"
  },
  "language_info": {
   "codemirror_mode": {
    "name": "ipython",
    "version": 3
   },
   "file_extension": ".py",
   "mimetype": "text/x-python",
   "name": "python",
   "nbconvert_exporter": "python",
   "pygments_lexer": "ipython3",
   "version": "3.5.1"
  }
 },
 "nbformat": 4,
 "nbformat_minor": 0
}
