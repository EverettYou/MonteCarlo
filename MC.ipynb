{
 "cells": [
  {
   "cell_type": "markdown",
   "metadata": {},
   "source": [
    "# Classical Monte Carlo of $S_N$ Model on Hypertree Lattice"
   ]
  },
  {
   "cell_type": "code",
   "execution_count": 1,
   "metadata": {
    "collapsed": false
   },
   "outputs": [],
   "source": [
    "%reload_ext snakeviz\n",
    "%run 'MC.py'"
   ]
  },
  {
   "cell_type": "markdown",
   "metadata": {},
   "source": [
    "## Hypertree Model"
   ]
  },
  {
   "cell_type": "markdown",
   "metadata": {},
   "source": [
    "### Model Setup\n",
    "* Lattice: hypertree (branching MERA like, binary branching and binary merging)\n",
    "* Degrees of freedom on each site is a permutation group element $g_i\\in S_N$.\n",
    "* Hamiltonian:\n",
    "$$H = -\\sum_{\\langle ij\\rangle} K_{ij}\\chi(g_i,g_j),$$\n",
    "where $\\chi(g_i,g_j)=\\text{Tr}g_i^{-1}g_j$ is the group character (the number of cycles)."
   ]
  },
  {
   "cell_type": "code",
   "execution_count": 23,
   "metadata": {
    "collapsed": false
   },
   "outputs": [
    {
     "data": {
      "text/plain": [
       "[<2,0,0>,\n",
       " <2,1,0>,\n",
       " <2,2,0>,\n",
       " <2,3,0>,\n",
       " <1,0,0>,\n",
       " <1,0,1>,\n",
       " <1,1,0>,\n",
       " <1,1,1>,\n",
       " <0,0,0>,\n",
       " <0,0,1>,\n",
       " <0,0,2>,\n",
       " <0,0,3>]"
      ]
     },
     "execution_count": 23,
     "metadata": {},
     "output_type": "execute_result"
    }
   ],
   "source": [
    "lattice(4).sites"
   ]
  },
  {
   "cell_type": "code",
   "execution_count": 2,
   "metadata": {
    "collapsed": false
   },
   "outputs": [
    {
     "data": {
      "text/plain": [
       "[(0, 1, 2), (0, 2, 1), (1, 0, 2), (1, 2, 0), (2, 0, 1), (2, 1, 0)]"
      ]
     },
     "execution_count": 2,
     "metadata": {},
     "output_type": "execute_result"
    }
   ],
   "source": [
    "group(3).elements"
   ]
  },
  {
   "cell_type": "markdown",
   "metadata": {},
   "source": [
    "### Example\n",
    "Generate model, run, get hist and energy, make measurements.\n",
    "* use **block Gibbs sampling** + **heatbath update**, alternatively sampling on A and B sublattices.\n",
    " * A sublattice is the one that contains the most UV layer\n",
    " * B sublattice contains the rest\n",
    " * the boundary is labeled by C\n",
    "* hist and magnetization only conts the bulk spins, boundary spins are not taken into account."
   ]
  },
  {
   "cell_type": "code",
   "execution_count": 3,
   "metadata": {
    "collapsed": false
   },
   "outputs": [
    {
     "name": "stdout",
     "output_type": "stream",
     "text": [
      "[0 0 0 0 1 0 0 1 0 0 0 0] [6 2] 5.700000000000001\n",
      "[0 1 1 1 0 0 1 1 0 0 0 0] [3 5] 1.900000000000001\n",
      "[1 0 1 0 0 0 1 1 0 0 0 0] [4 4] 3.9000000000000012\n",
      "[0 1 1 1 0 0 0 1 0 0 0 0] [4 4] 2.8000000000000016\n",
      "[0 0 0 1 0 0 0 1 0 0 0 0] [6 2] 2.6000000000000014\n",
      "[0 1 1 0 0 0 1 1 0 0 0 0] [4 4] 2.1000000000000014\n",
      "[0 1 1 1 0 0 1 1 0 0 0 0] [3 5] 1.9000000000000015\n",
      "[0 1 1 1 0 0 1 0 0 0 0 0] [4 4] 2.8000000000000016\n",
      "[1 0 0 0 0 0 0 1 0 0 0 0] [6 2] 4.600000000000001\n",
      "[0 0 1 1 0 0 1 1 0 0 0 0] [4 4] 1.7000000000000013\n"
     ]
    },
    {
     "data": {
      "text/plain": [
       "{'energy1': 2.8957269999997366,\n",
       " 'energy2': 10.340216499997263,\n",
       " 'magnet1': array([ 0.6682725,  0.3317275]),\n",
       " 'magnet2': array([[ 0.4836075,  0.184665 ],\n",
       "        [ 0.184665 ,  0.1470625]]),\n",
       " 'spins': array([[ 0.81365,  0.54088,  0.54615,  0.50365],\n",
       "        [ 0.18635,  0.45912,  0.45385,  0.49635]]),\n",
       " 'steps': 100000}"
      ]
     },
     "execution_count": 3,
     "metadata": {},
     "output_type": "execute_result"
    }
   ],
   "source": [
    "sys = hypertree_model(4,2,(1.,0.1)).run(100)\n",
    "for k in range(10):\n",
    "    sys.run(mode = 1)\n",
    "    print(sys.config(),sys.hist(),sys.energy())\n",
    "sys.measure(100000,monitor=[0,1,2,3])"
   ]
  },
  {
   "cell_type": "markdown",
   "metadata": {},
   "source": [
    "The CPU intensive MC samplings are performed by the FORTRAN extension MC. The module MC contains two parts:\n",
    "* core (for MC sampling and update macroscopic observibles)\n",
    "* physics (for data collection and measurements)"
   ]
  },
  {
   "cell_type": "code",
   "execution_count": 3,
   "metadata": {
    "collapsed": false
   },
   "outputs": [
    {
     "name": "stdout",
     "output_type": "stream",
     "text": [
      "This module 'MC' is auto-generated with f2py (version:2).\n",
      "Functions:\n",
      "Fortran 90/95 modules:\n",
      "  core --- irng,energy,nsite,config,chi,nc,nb,klst,na,hist,dof,jlst,init(),run(),get_energy(),get_hist(),dump(),load()  physics --- monitor,energy1,magn2,spins,magn1,energy2,measure().\n"
     ]
    }
   ],
   "source": [
    "import MC\n",
    "print(MC.__doc__)"
   ]
  },
  {
   "cell_type": "markdown",
   "metadata": {},
   "source": [
    "### Profiling"
   ]
  },
  {
   "cell_type": "code",
   "execution_count": 6,
   "metadata": {
    "collapsed": false
   },
   "outputs": [
    {
     "name": "stdout",
     "output_type": "stream",
     "text": [
      " \n",
      "*** Profile stats marshalled to file '/var/folders/lt/kgph6qbj6y306pfhbyd1kn2r0000gn/T/tmp9yqe_5z8'. \n"
     ]
    }
   ],
   "source": [
    "%snakeviz hypertree_model(128,4,(1.,0.1)).run(1000)"
   ]
  },
  {
   "cell_type": "code",
   "execution_count": 8,
   "metadata": {
    "collapsed": false
   },
   "outputs": [
    {
     "name": "stdout",
     "output_type": "stream",
     "text": [
      " \n",
      "*** Profile stats marshalled to file '/var/folders/lt/kgph6qbj6y306pfhbyd1kn2r0000gn/T/tmpip4uonm9'. \n"
     ]
    }
   ],
   "source": [
    "def test():\n",
    "    sys = hypertree_model(128,4,(1.,0.1))\n",
    "    for k in range(1000):\n",
    "        sys.run()\n",
    "%snakeviz test()"
   ]
  },
  {
   "cell_type": "code",
   "execution_count": null,
   "metadata": {
    "collapsed": true
   },
   "outputs": [],
   "source": []
  }
 ],
 "metadata": {
  "kernelspec": {
   "display_name": "Python 3",
   "language": "python",
   "name": "python3"
  },
  "language_info": {
   "codemirror_mode": {
    "name": "ipython",
    "version": 3
   },
   "file_extension": ".py",
   "mimetype": "text/x-python",
   "name": "python",
   "nbconvert_exporter": "python",
   "pygments_lexer": "ipython3",
   "version": "3.5.1"
  }
 },
 "nbformat": 4,
 "nbformat_minor": 0
}
