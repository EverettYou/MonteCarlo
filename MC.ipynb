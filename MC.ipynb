{
 "cells": [
  {
   "cell_type": "markdown",
   "metadata": {},
   "source": [
    "# Classical Monte Carlo of $S_N$ Model on Hypertree Lattice"
   ]
  },
  {
   "cell_type": "code",
   "execution_count": 1,
   "metadata": {
    "collapsed": false
   },
   "outputs": [],
   "source": [
    "%reload_ext snakeviz\n",
    "%run 'MC.py'"
   ]
  },
  {
   "cell_type": "markdown",
   "metadata": {},
   "source": [
    "## Hypertree Model"
   ]
  },
  {
   "cell_type": "markdown",
   "metadata": {},
   "source": [
    "### Model Setup\n",
    "* Lattice: hypertree (branching MERA like, binary branching and binary merging)\n",
    "* Degrees of freedom on each site is a permutation group element $g_i\\in S_N$.\n",
    "* Hamiltonian:\n",
    "$$H = -\\sum_{\\langle ij\\rangle} K_{ij}\\chi(g_i,g_j),$$\n",
    "where $\\chi(g_i,g_j)=\\text{Tr}g_i^{-1}g_j$ is the group character (the number of cycles)."
   ]
  },
  {
   "cell_type": "code",
   "execution_count": 2,
   "metadata": {
    "collapsed": false
   },
   "outputs": [
    {
     "data": {
      "text/plain": [
       "[<2,0,0>, <2,1,0>, <2,2,0>, <2,3,0>, <1,0,0>, <1,0,1>, <1,1,0>, <1,1,1>, <0,0,0>, <0,0,1>, <0,0,2>, <0,0,3>]"
      ]
     },
     "execution_count": 2,
     "metadata": {},
     "output_type": "execute_result"
    }
   ],
   "source": [
    "HypertreeLattice(4)"
   ]
  },
  {
   "cell_type": "code",
   "execution_count": 3,
   "metadata": {
    "collapsed": false
   },
   "outputs": [
    {
     "data": {
      "text/plain": [
       "[[0, -1, -1, -2, -2, -1],\n",
       " [-1, 0, -2, -1, -1, -2],\n",
       " [-1, -2, 0, -1, -1, -2],\n",
       " [-2, -1, -1, 0, -2, -1],\n",
       " [-2, -1, -1, -2, 0, -1],\n",
       " [-1, -2, -2, -1, -1, 0]]"
      ]
     },
     "execution_count": 3,
     "metadata": {},
     "output_type": "execute_result"
    }
   ],
   "source": [
    "Group(3).chi"
   ]
  },
  {
   "cell_type": "markdown",
   "metadata": {},
   "source": [
    "### Example\n",
    "Generate model, run, get hist and energy, make measurements.\n",
    "* use **block Gibbs sampling** + **heatbath update**, alternatively sampling on A and B sublattices.\n",
    " * A sublattice is the one that contains the most UV layer\n",
    " * B sublattice contains the rest\n",
    " * the boundary is labeled by C\n",
    "* hist and magnetization only conts the bulk spins, boundary spins are not taken into account."
   ]
  },
  {
   "cell_type": "code",
   "execution_count": 2,
   "metadata": {
    "collapsed": false
   },
   "outputs": [
    {
     "name": "stdout",
     "output_type": "stream",
     "text": [
      "[0 2 0 1 0 0 5 1 0 0 0 0] [4 2 1 0 0 1] 5.199999999999999\n",
      "[0 3 3 3 0 5 1 3 0 0 0 0] [2 1 0 4 0 1] 7.599999999999999\n",
      "[4 1 3 1 1 0 2 1 0 0 0 0] [1 4 1 1 1 0] 9.999999999999998\n",
      "[0 2 0 3 0 0 2 0 0 0 0 0] [5 0 2 1 0 0] 3.9999999999999987\n",
      "[2 0 0 3 0 5 2 2 0 0 0 0] [3 0 3 1 0 1] 9.999999999999996\n",
      "[0 5 2 2 0 0 3 2 0 0 0 0] [3 0 3 1 0 1] 4.399999999999997\n",
      "[0 3 2 3 0 0 2 2 0 0 0 0] [3 0 3 2 0 0] 3.5999999999999974\n",
      "[1 2 2 4 0 0 0 0 0 0 0 0] [4 1 2 0 1 0] 6.799999999999999\n",
      "[1 2 0 1 4 0 0 0 0 0 0 0] [4 2 1 0 1 0] 8.399999999999999\n",
      "[0 5 0 5 0 1 5 0 0 0 0 0] [4 1 0 0 0 3] 6.799999999999997\n"
     ]
    },
    {
     "data": {
      "text/plain": [
       "{'energy1': 6.492800000000001,\n",
       " 'energy2': 47.164479999999934,\n",
       " 'magnet1': array([ 0.416   ,  0.12875 ,  0.141375,  0.08725 ,  0.0875  ,  0.139125]),\n",
       " 'magnet2': array([[ 0.20721875,  0.04709375,  0.05221875,  0.03079688,  0.0299375 ,\n",
       "          0.04873438],\n",
       "        [ 0.04709375,  0.0350625 ,  0.01214063,  0.00970312,  0.009875  ,\n",
       "          0.014875  ],\n",
       "        [ 0.05221875,  0.01214063,  0.04076562,  0.01082812,  0.01059375,\n",
       "          0.01482812],\n",
       "        [ 0.03079688,  0.00970312,  0.01082812,  0.01996875,  0.0056875 ,\n",
       "          0.01026563],\n",
       "        [ 0.0299375 ,  0.009875  ,  0.01059375,  0.0056875 ,  0.02109375,\n",
       "          0.0103125 ],\n",
       "        [ 0.04873438,  0.014875  ,  0.01482812,  0.01026563,  0.0103125 ,\n",
       "          0.04010938]]),\n",
       " 'spins': array([[ 0.578,  0.252,  0.234,  0.166],\n",
       "        [ 0.092,  0.162,  0.152,  0.172],\n",
       "        [ 0.124,  0.167,  0.179,  0.172],\n",
       "        [ 0.033,  0.127,  0.14 ,  0.162],\n",
       "        [ 0.037,  0.118,  0.136,  0.161],\n",
       "        [ 0.136,  0.174,  0.159,  0.167]]),\n",
       " 'steps': 1000}"
      ]
     },
     "execution_count": 2,
     "metadata": {},
     "output_type": "execute_result"
    }
   ],
   "source": [
    "sys = LatticeModel(HypertreeLattice(4,[1.,0.2]),Group(3)).run(100)\n",
    "for k in range(10):\n",
    "    sys.run(mode = 1)\n",
    "    print(sys.config,sys.hist,sys.energy)\n",
    "sys.measure(1000,monitor=[0,1,2,3])"
   ]
  },
  {
   "cell_type": "markdown",
   "metadata": {},
   "source": [
    "The CPU intensive MC samplings are performed by the FORTRAN extension MC. The module MC contains two parts:\n",
    "* core (for MC sampling and update macroscopic observibles)\n",
    "* physics (for data collection and measurements)"
   ]
  },
  {
   "cell_type": "code",
   "execution_count": 3,
   "metadata": {
    "collapsed": false
   },
   "outputs": [
    {
     "name": "stdout",
     "output_type": "stream",
     "text": [
      "This module 'MC' is auto-generated with f2py (version:2).\n",
      "Functions:\n",
      "Fortran 90/95 modules:\n",
      "  core --- chi,jlst,klst,nsite,na,dof,nlst,config,nc,irng,energy,nb,hist,init(),run(),get_energy(),get_hist(),dump(),load()  physics --- nspin,spins,energy2,magnet1,monitor,energy1,magnet2,measure().\n"
     ]
    }
   ],
   "source": [
    "import MC\n",
    "print(MC.__doc__)"
   ]
  },
  {
   "cell_type": "markdown",
   "metadata": {},
   "source": [
    "### Profiling"
   ]
  },
  {
   "cell_type": "code",
   "execution_count": 4,
   "metadata": {
    "collapsed": false
   },
   "outputs": [
    {
     "name": "stdout",
     "output_type": "stream",
     "text": [
      " \n",
      "*** Profile stats marshalled to file '/var/folders/lt/kgph6qbj6y306pfhbyd1kn2r0000gn/T/tmp3lqyahqv'. \n"
     ]
    }
   ],
   "source": [
    "%snakeviz LatticeModel(HypertreeLattice(4,[1.,0.2]),Group(3)).run(1000)"
   ]
  },
  {
   "cell_type": "code",
   "execution_count": null,
   "metadata": {
    "collapsed": true
   },
   "outputs": [],
   "source": []
  }
 ],
 "metadata": {
  "kernelspec": {
   "display_name": "Python 3",
   "language": "python",
   "name": "python3"
  },
  "language_info": {
   "codemirror_mode": {
    "name": "ipython",
    "version": 3
   },
   "file_extension": ".py",
   "mimetype": "text/x-python",
   "name": "python",
   "nbconvert_exporter": "python",
   "pygments_lexer": "ipython3",
   "version": "3.5.1"
  }
 },
 "nbformat": 4,
 "nbformat_minor": 0
}
