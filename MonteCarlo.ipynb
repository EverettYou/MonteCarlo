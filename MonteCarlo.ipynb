{
 "cells": [
  {
   "cell_type": "markdown",
   "metadata": {},
   "source": [
    "# Classical Monte Carlo of $S_N$ Model on Hypertree Lattice"
   ]
  },
  {
   "cell_type": "markdown",
   "metadata": {},
   "source": [
    "## Statistical Mechanics"
   ]
  },
  {
   "cell_type": "markdown",
   "metadata": {},
   "source": [
    "### Generic Model\n",
    "The most general StatMech model we consider is specified by the following ingredients:\n",
    "* **Lattice**: we will only consider *bipartite* lattice, on which the block Gibbs sampling can be carried out.\n",
    " * The bipartite lattice contains two **sublattices** labeled by *A* and *B*.\n",
    " * The **boundary**, labeled by *C*, refers to the sites that will not be updated in Monte Carlo. The boundary configuration is fixed by the boundary condition and will not be updated. \n",
    "* **Group**: on each site, the degree of freedom is a permutation group element $g_i\\in S_n$, which we will called the \"spin\" hereinafter.\n",
    " * Each spin state will be represented as a vector in the canonical representation of $S_n$. For example, for $S_2$ group: $|()\\rangle=(1,0)^\\intercal$, $|(12)\\rangle=(0,1)^\\intercal.$\n",
    "* **Action**:\n",
    "$$S[g] = -\\sum_{\\langle ij\\rangle} K_{ij}\\chi(g_i,g_j),$$\n",
    "where $\\chi(g_i,g_j)=\\text{Tr}g_i^{-1}g_j$ is the group character (the number of cycles). The partition function is given by\n",
    "$$Z = -\\sum_{[g|A\\cup B]}e^{-S[g]} = e^{-F[g|C]}.$$\n",
    "With given boundary, the free energy $F$ is a function of the boundary configuration."
   ]
  },
  {
   "cell_type": "markdown",
   "metadata": {},
   "source": [
    "### Monte Carlo Algorithm\n",
    "The basic idea of importance sampling is to set up a suitable Markov chain that draws configurations according to the Boltzmann weight\n",
    "$$P[g] = \\frac{e^{-S[g]}}{Z}.$$\n",
    "There are two classes of update schemes:\n",
    "* Local update algorithms (Metropolis, **Heat-Bath**)\n",
    "* Cluster update algorithms (Swendsen-Wang Cluster, Wolff Cluster)\n",
    "\n",
    "The cluster update greately reduces the dynamic scaling at the critical point, which speed up the convergence in the critical region. Cluster update works well for Potts model, where the spins interacts via delta function: such that the domain wall between all different spins are of the same tension (energy). In the Wolff cluster algorithm, a site is first choosen, and neighboring sites of the same spin can attach to the cluster with probability $p$ (sites of different spins should not attach), and finally the whole cluster is flipped. The transition rate can satisfy the detail balance because the intereial weight is the same ($=p^{C-1}$ where $C$ is number of cluster site, this is because the cluster is grown following a tree, and all trees are equivalent in bond number if the site number is fixed), so the only difference is on the boundary. There are two types of cluster boundaries: boudaries between different spins (of tension 0) and boundary between same spins (of tension $-\\ln p$). After flipping, the two types of boundary will switch their positions, so it can match the detail balance condition. More precisely, the partition function for $n$-state Potts model can be cast into\n",
    "$$Z\\propto\\sum_{\\text{config}}p^{\\text{#link}}n^{\\text{#cluster}}.$$\n",
    "This is due to the nice delta function structure. However for our $S_n$ model, the delta interaction is soften in some sense. Then the partition function no longer has the nice link and cluster structure, which make it hard to do cluster update.\n",
    "\n",
    "While it remains a question of <font color='red'>how to design a cluster update algorithm for $S_n$ model</font>, we will try the local update first, in particular the heat-bath update. The current code uses **block Gibbs sampling** + **heat-bath update**, alternatively sampling on A and B sublattices.\n",
    "\n",
    "Question: <font color='red'>How to determine equilibrium?</font>"
   ]
  },
  {
   "cell_type": "markdown",
   "metadata": {},
   "source": [
    "### Temperature Profiling\n",
    "\n",
    "Question: <font color='red'>How to calculate free energy?</font>"
   ]
  },
  {
   "cell_type": "markdown",
   "metadata": {},
   "source": [
    "## Code Structure\n",
    "Objects:\n",
    "* **Group**\n",
    "* **Lattice** (SquareLattice, HypertreeLattice)\n",
    "* **Model** (LatticeModel)\n",
    "    * Wrapper of the FORTRAN extension MC (provides interface for data transfer and control)."
   ]
  },
  {
   "cell_type": "code",
   "execution_count": 1,
   "metadata": {
    "collapsed": false
   },
   "outputs": [],
   "source": [
    "%reload_ext autoreload\n",
    "%autoreload 2\n",
    "from MonteCarlo import *"
   ]
  },
  {
   "cell_type": "markdown",
   "metadata": {},
   "source": [
    "### `Group` Object"
   ]
  },
  {
   "cell_type": "markdown",
   "metadata": {},
   "source": [
    "**`Group(n)`** represents a permutation group $S_n$.\n",
    "- Each element is a tuple of $n$ numbers, representing the permutation of $(0,1,...,n-1)$."
   ]
  },
  {
   "cell_type": "markdown",
   "metadata": {},
   "source": [
    "#### Attributes\n",
    "- `Group.dof` gives the order of the group, i.e. $n!$, which is also the degrees of freedom on each site.\n",
    "- `Group.chi` the table of $\\chi(g_1,g_2)$ (adjusted by $-n$).\n",
    "- `Group.element` gives the list of all group elements.\n",
    "- `Group.index` is a dictionary that maps group element to its index.\n",
    "\n",
    "After initialization, `Group.dof` and `Group.chi` should have been set."
   ]
  },
  {
   "cell_type": "markdown",
   "metadata": {},
   "source": [
    "#### Methods"
   ]
  },
  {
   "cell_type": "code",
   "execution_count": 2,
   "metadata": {
    "collapsed": false
   },
   "outputs": [
    {
     "data": {
      "text/plain": [
       "[[0, 1, 2, 3, 4, 5],\n",
       " [1, 0, 4, 5, 2, 3],\n",
       " [2, 3, 0, 1, 5, 4],\n",
       " [3, 2, 5, 4, 0, 1],\n",
       " [4, 5, 1, 0, 3, 2],\n",
       " [5, 4, 3, 2, 1, 0]]"
      ]
     },
     "execution_count": 2,
     "metadata": {},
     "output_type": "execute_result"
    }
   ],
   "source": [
    "'''multiplication table'''\n",
    "group = Group(3)\n",
    "[[group.index[group.multiply(g,h)] for h in group] for g in group]"
   ]
  },
  {
   "cell_type": "code",
   "execution_count": 8,
   "metadata": {
    "collapsed": false
   },
   "outputs": [
    {
     "data": {
      "text/plain": [
       "[0, 0, 0, 0, 0, 0]"
      ]
     },
     "execution_count": 8,
     "metadata": {},
     "output_type": "execute_result"
    }
   ],
   "source": [
    "'''check group inversion'''\n",
    "[group.index[group.multiply(g, group.inverse(g))] for g in group]"
   ]
  },
  {
   "cell_type": "code",
   "execution_count": 3,
   "metadata": {
    "collapsed": false
   },
   "outputs": [
    {
     "data": {
      "text/plain": [
       "{(0, 1, 2): 3,\n",
       " (0, 2, 1): 2,\n",
       " (1, 0, 2): 2,\n",
       " (1, 2, 0): 1,\n",
       " (2, 0, 1): 1,\n",
       " (2, 1, 0): 2}"
      ]
     },
     "execution_count": 3,
     "metadata": {},
     "output_type": "execute_result"
    }
   ],
   "source": [
    "'''characters'''\n",
    "{g: group.character(g) for g in group}"
   ]
  },
  {
   "cell_type": "markdown",
   "metadata": {},
   "source": [
    "The character of a permutation is defined as the number of cycles in the permutation, denoted as $\\ln\\text{Tr}g$, ranging from $1$ to $n$. Upon initialization, the <code>Group</code> object generates the table of\n",
    "$$\\chi(g_1,g_2)=\\ln\\text{Tr} g_1 g_2^{-1}-n.$$\n",
    "One can show that $\\chi(g_1,g_2)=\\chi(g_2,g_1)$ and $\\forall g: \\chi(gg_1,gg_2)=\\chi(g_1g,g_2g)=\\chi(g_1,g_2)$.\n",
    "* This is the interaction function between two spins across a bond.\n",
    "* The shift $-n$ is needed to avoid partition weight overflow at low temperature. "
   ]
  },
  {
   "cell_type": "code",
   "execution_count": 4,
   "metadata": {
    "collapsed": false
   },
   "outputs": [
    {
     "data": {
      "text/plain": [
       "[[0, -1, -1, -2, -2, -1],\n",
       " [-1, 0, -2, -1, -1, -2],\n",
       " [-1, -2, 0, -1, -1, -2],\n",
       " [-2, -1, -1, 0, -2, -1],\n",
       " [-2, -1, -1, -2, 0, -1],\n",
       " [-1, -2, -2, -1, -1, 0]]"
      ]
     },
     "execution_count": 4,
     "metadata": {},
     "output_type": "execute_result"
    }
   ],
   "source": [
    "Group(3).chi"
   ]
  },
  {
   "cell_type": "markdown",
   "metadata": {},
   "source": [
    "### `Lattice` Object"
   ]
  },
  {
   "cell_type": "markdown",
   "metadata": {},
   "source": [
    "**`Lattice()`** defines a genaric lattice object (bydefault an empty lattice). \n",
    "\n",
    "Different types of lattices are realized as **inheritances** of the `Lattice` class:\n",
    "- `HypertreeLattice(L,Ks,branches)` for hyertree lattice.\n",
    "- `SquareLattice(L,Ks)` for square lattice.\n",
    "\n",
    "For the purpose of block-Gibbs update, the lattice should be a **bipartite graph**.\n",
    "- The **bulk** sites are partitioned to A and B sublattices.\n",
    "  - The numbers of sites in A and B are denoted as `Lattice.na` and `Lattice.nb`.\n",
    "  - There is no lattice bond with in the same sublattice.\n",
    "- The **boundary** sites are ascribed to the C sublattice.\n",
    "  - The number of boundary sites is `Lattice.nc`\n",
    "- The total number of sites (including bulk and boundary) is `Lattice.nsite`\n",
    "\n",
    "**Site Ordering Rules**. The sites are arranged according to the following rules:\n",
    "- *Bulk sites befor boundary sites*. A, B must come before C.\n",
    "  - `MC` module because will not allocate state variables for C sites\n",
    "- *Contineous index* for A and B sites, s.t. within each sublattice dont scatter around."
   ]
  },
  {
   "cell_type": "markdown",
   "metadata": {},
   "source": [
    "#### `Site` Subclass\n",
    "\n",
    "Each inheritance lattice class should contain a definition of the **`Site` subclass** that is specific to the particular type of the hosting lattice (because different lattice may have different coordinate systems and sublattice partition scheme). The `Site` subclass should contain the following\n",
    "- **Attributes**:\n",
    "  - `coordinate` a tuple of the coordinate of the site. This attribute is usually set at initialization.\n",
    "  - `label='A','B','C'` labels the sublattice of the site. This will be set by the method `get_label(lattice)`.\n",
    "  - `index` keeps the site index in the lattice, will be set by the lattice initialization.\n",
    "  - One may also introduce attributes for each coordinate component (but that is not required).\n",
    "- **Methods**:\n",
    "  - `get_label(lattice)` set the attribute `label` to: `A`,`B` or `C`, and return it. It takes the hosting lattice as its input, such that the global parameters of the lattice can be passed with the entire lattice object.\n",
    "  - `sortkey()` returns the key for sorting the site."
   ]
  },
  {
   "cell_type": "markdown",
   "metadata": {},
   "source": [
    "#### Attributes\n",
    "\n",
    "There are two groups of attributes:\n",
    "- Lattice structural attributes\n",
    "  - `nsite`, `na`, `nb`, `nc`. They must satisfy `na + nb + nc = nsite`.\n",
    "  - `sites` (site container) is a list of all sites in the lattice (including both bulk and boundary).\n",
    "  - `coordmap` is a dictionary that maps the coordinates to the site index.\n",
    "- Action related attributes\n",
    "  - `irng` a list of length `nsite+1` to specify the partition of `jlst` and `klst`, s.t. the data block for site `i` is specified by the slice `irng[i]:irng[i+1]`.\n",
    "  - `jlst`, `klst` lists of j-index and corresponding coupling strength K. Both lists are of the length `nlst`.\n",
    "  \n",
    "#### Methods\n",
    "\n",
    "Each inheritance lattice clase must redefine the follwing methods:\n",
    "- `get_site()` return a list of all lattice sites (no need to be labeled, sorted or indexed, just create objects).\n",
    "- `Action()` assuming the *lattice has been assembled* (sites labeled, sorted and indexed), return the Action terms as `(i,j,K)` tuples, such that $S=-\\frac{1}{2}\\sum_{i,j}K_{ij}\\chi(g_i,g_j)$ (note the 1/2 factor to correct the double counting.)"
   ]
  },
  {
   "cell_type": "markdown",
   "metadata": {},
   "source": [
    "#### Hypertree Lattice\n",
    "- **`HypertreeLattice(L, Ks, branches)`**: creates a hypertree lattice of\n",
    "  - `L` sites in the ultimate UV layer,\n",
    "  - Make specific number of `branches` (default = 2) towards IR (which is also the number of sites in each block).\n",
    "    - For each given depth and feature, the spacial sites are partitions into groups of sizes upto `branches`.\n",
    "    - Each group develops new features in the deeper IR layer, and the connection is *bipartite complete*.\n",
    "    - If a group contains only one site, it will not develop new IR features (lattice will terminate in this way).\n",
    "  - The coupling strengths are provided by `Ks`, as list or as array.\n",
    "    - `Ks=[K0,K1,K2,...]` are the coupling strengths to each branches.\n",
    "    - If `Ks` contains *less* couplings then the number of `branches`, unspecified branches will be *decoupled*.\n",
    "    - If `Ks` contains *more* couplings than the number of `branches`, extra couplings will be *neglected*.\n",
    "- Sublattice partition convension:\n",
    "  - A sublattice must contain the **ultimate UV** sites, which are also arranged to the **front**, such that the measurement of these sites can be conviniently specified.\n",
    "  - C sublattice are the **ultimate IR** site, which are arranged to the **back**."
   ]
  },
  {
   "cell_type": "code",
   "execution_count": 2,
   "metadata": {
    "collapsed": false
   },
   "outputs": [
    {
     "name": "stdout",
     "output_type": "stream",
     "text": [
      "nsite : 18\n",
      "na : 6\n",
      "nb : 6\n",
      "nc : 6\n",
      "nlst : 60\n",
      "irng : [ 1  3  5  7  9 11 13 18 23 28 33 38 43 46 49 52 55 58 61]\n",
      "jlst : [ 7  8  7  8  9 10  9 10 11 12 11 12  1  2 13 14 15  1  2 16 17 18  3  4 13\n",
      " 14 15  3  4 16 17 18  5  6 13 14 15  5  6 16 17 18  7  9 11  7  9 11  7  9\n",
      " 11  8 10 12  8 10 12  8 10 12]\n",
      "klst : [ 1.  1.  2.  2.  1.  1.  2.  2.  1.  1.  2.  2.  1.  2.  1.  1.  1.  1.\n",
      "  2.  1.  1.  1.  1.  2.  2.  2.  2.  1.  2.  2.  2.  2.  1.  2.  3.  3.\n",
      "  3.  1.  2.  3.  3.  3.  1.  2.  3.  1.  2.  3.  1.  2.  3.  1.  2.  3.\n",
      "  1.  2.  3.  1.  2.  3.]\n",
      "A0:<2,0,0> - IR: [] UV: [6:<1,0,0>, 7:<1,0,1>]\n",
      "A1:<2,1,0> - IR: [] UV: [6:<1,0,0>, 7:<1,0,1>]\n",
      "A2:<2,2,0> - IR: [] UV: [8:<1,1,0>, 9:<1,1,1>]\n",
      "A3:<2,3,0> - IR: [] UV: [8:<1,1,0>, 9:<1,1,1>]\n",
      "A4:<2,4,0> - IR: [] UV: [10:<1,2,0>, 11:<1,2,1>]\n",
      "A5:<2,5,0> - IR: [] UV: [10:<1,2,0>, 11:<1,2,1>]\n",
      "B6:<1,0,0> - IR: [0:<2,0,0>, 1:<2,1,0>] UV: [12:<0,0,0>, 13:<0,0,1>, 14:<0,0,2>]\n",
      "B7:<1,0,1> - IR: [0:<2,0,0>, 1:<2,1,0>] UV: [15:<0,0,3>, 16:<0,0,4>, 17:<0,0,5>]\n",
      "B8:<1,1,0> - IR: [2:<2,2,0>, 3:<2,3,0>] UV: [12:<0,0,0>, 13:<0,0,1>, 14:<0,0,2>]\n",
      "B9:<1,1,1> - IR: [2:<2,2,0>, 3:<2,3,0>] UV: [15:<0,0,3>, 16:<0,0,4>, 17:<0,0,5>]\n",
      "B10:<1,2,0> - IR: [4:<2,4,0>, 5:<2,5,0>] UV: [12:<0,0,0>, 13:<0,0,1>, 14:<0,0,2>]\n",
      "B11:<1,2,1> - IR: [4:<2,4,0>, 5:<2,5,0>] UV: [15:<0,0,3>, 16:<0,0,4>, 17:<0,0,5>]\n",
      "C12:<0,0,0> - IR: [6:<1,0,0>, 8:<1,1,0>, 10:<1,2,0>] UV: []\n",
      "C13:<0,0,1> - IR: [6:<1,0,0>, 8:<1,1,0>, 10:<1,2,0>] UV: []\n",
      "C14:<0,0,2> - IR: [6:<1,0,0>, 8:<1,1,0>, 10:<1,2,0>] UV: []\n",
      "C15:<0,0,3> - IR: [7:<1,0,1>, 9:<1,1,1>, 11:<1,2,1>] UV: []\n",
      "C16:<0,0,4> - IR: [7:<1,0,1>, 9:<1,1,1>, 11:<1,2,1>] UV: []\n",
      "C17:<0,0,5> - IR: [7:<1,0,1>, 9:<1,1,1>, 11:<1,2,1>] UV: []\n"
     ]
    }
   ],
   "source": [
    "lattice = HypertreeLattice(6,Ks=[1.,2.,3.],branches=3)\n",
    "for key in ('nsite','na','nb','nc','nlst','irng','jlst','klst'):\n",
    "    print(key,':',vars(lattice)[key])\n",
    "for site in lattice:\n",
    "    print('%s%s - IR: %s UV: %s'%(site.label,repr(site),repr(site.IR),repr(site.UV)))"
   ]
  },
  {
   "cell_type": "markdown",
   "metadata": {},
   "source": [
    "#### Square Lattice\n",
    "- **`SquareLattice(L, Ks)`**: creates a square lattice of\n",
    "  - `L` x `L` sites with *periodic* boundary condition along both dimensions.\n",
    "  - There is only one coupling, uniform through out the lattice, given by `K[0]`.\n",
    "    - If `Ks` contains more than one couplings, extra couplings will be *neglected*.\n",
    "    - But it is possible that in future, extra couplings in `Ks` can be assigned to 2nd, 3rd neighbors ect.\n",
    "- Sublattice partition convension:\n",
    "  - A = even sublattice, B = odd sublattice. Such a partition requies: **`L` must be even**!\n",
    "  - There is no boundary sites. So C is empty."
   ]
  },
  {
   "cell_type": "code",
   "execution_count": 96,
   "metadata": {
    "collapsed": false
   },
   "outputs": [
    {
     "name": "stdout",
     "output_type": "stream",
     "text": [
      "nsite : 16\n",
      "na : 8\n",
      "nb : 8\n",
      "nc : 0\n",
      "nlst : 64\n",
      "irng : [ 1  5  9 13 17 21 25 29 33 37 41 45 49 53 57 61 65]\n",
      "jlst : [ 9 10 11 15  9 10 12 16  9 11 12 13 10 11 12 14 11 13 14 15 12 13 14 16  9\n",
      " 13 15 16 10 14 15 16  1  2  3  7  1  2  4  8  1  3  4  5  2  3  4  6  3  5\n",
      "  6  7  4  5  6  8  1  5  7  8  2  6  7  8]\n",
      "klst : [ 1.  1.  1.  1.  1.  1.  1.  1.  1.  1.  1.  1.  1.  1.  1.  1.  1.  1.\n",
      "  1.  1.  1.  1.  1.  1.  1.  1.  1.  1.  1.  1.  1.  1.  1.  1.  1.  1.\n",
      "  1.  1.  1.  1.  1.  1.  1.  1.  1.  1.  1.  1.  1.  1.  1.  1.  1.  1.\n",
      "  1.  1.  1.  1.  1.  1.  1.  1.  1.  1.]\n",
      "A0<0,0> - neighbors: [[14<3,0>, 9<0,3>, 8<0,1>, 10<1,0>]]\n",
      "A1<0,2> - neighbors: [[15<3,2>, 8<0,1>, 9<0,3>, 11<1,2>]]\n",
      "A2<1,1> - neighbors: [[8<0,1>, 10<1,0>, 11<1,2>, 12<2,1>]]\n",
      "A3<1,3> - neighbors: [[9<0,3>, 11<1,2>, 10<1,0>, 13<2,3>]]\n",
      "A4<2,0> - neighbors: [[10<1,0>, 13<2,3>, 12<2,1>, 14<3,0>]]\n",
      "A5<2,2> - neighbors: [[11<1,2>, 12<2,1>, 13<2,3>, 15<3,2>]]\n",
      "A6<3,1> - neighbors: [[12<2,1>, 14<3,0>, 15<3,2>, 8<0,1>]]\n",
      "A7<3,3> - neighbors: [[13<2,3>, 15<3,2>, 14<3,0>, 9<0,3>]]\n",
      "B8<0,1> - neighbors: [[6<3,1>, 0<0,0>, 1<0,2>, 2<1,1>]]\n",
      "B9<0,3> - neighbors: [[7<3,3>, 1<0,2>, 0<0,0>, 3<1,3>]]\n",
      "B10<1,0> - neighbors: [[0<0,0>, 3<1,3>, 2<1,1>, 4<2,0>]]\n",
      "B11<1,2> - neighbors: [[1<0,2>, 2<1,1>, 3<1,3>, 5<2,2>]]\n",
      "B12<2,1> - neighbors: [[2<1,1>, 4<2,0>, 5<2,2>, 6<3,1>]]\n",
      "B13<2,3> - neighbors: [[3<1,3>, 5<2,2>, 4<2,0>, 7<3,3>]]\n",
      "B14<3,0> - neighbors: [[4<2,0>, 7<3,3>, 6<3,1>, 0<0,0>]]\n",
      "B15<3,2> - neighbors: [[5<2,2>, 6<3,1>, 7<3,3>, 1<0,2>]]\n"
     ]
    }
   ],
   "source": [
    "lattice = SquareLattice(4,[1.])\n",
    "for key in ('nsite','na','nb','nc','nlst','irng','jlst','klst'):\n",
    "    print(key,':',vars(lattice)[key])\n",
    "for site in lattice:\n",
    "    print('%s%s - neighbors: %s'%(site.label,repr(site),repr(site.neighbors)))"
   ]
  },
  {
   "cell_type": "markdown",
   "metadata": {},
   "source": [
    "### `Model` Object"
   ]
  },
  {
   "cell_type": "markdown",
   "metadata": {},
   "source": [
    "The Monte Carlo samplings are performed by the FORTRAN extension `MC`. The module `MC` contains two parts:\n",
    "* **`MC.core`**: *CPU* intensive, for MC sampling and register macroscopic observibles.\n",
    "* **`MC.data`**: *memory* intensive, for data storage and procession.\n",
    "\n",
    "The `Model` object is a *python wapper* for the `MC` module. Because all `Model` instances shares the same `MC` kernel, so **there must only one active `Model` object at any time**. More than two active `Model` objects will interefer with each other."
   ]
  },
  {
   "cell_type": "code",
   "execution_count": 2,
   "metadata": {
    "collapsed": false
   },
   "outputs": [
    {
     "name": "stdout",
     "output_type": "stream",
     "text": [
      "This module 'MC' is auto-generated with f2py (version:2).\n",
      "Functions:\n",
      "Fortran 90/95 modules:\n",
      "  core --- dof,nb,jlst,nsite,energy,klst,irng,nc,na,nlst,chi,hist,config,init(),seed(),run(),get_energy(),get_hist(),dump(),load()  data --- energy2,energy1,nspin,monitor,magnet1,spins,magnet2,measure().\n"
     ]
    }
   ],
   "source": [
    "print(MC.__doc__)"
   ]
  },
  {
   "cell_type": "markdown",
   "metadata": {},
   "source": [
    "#### Attributes\n",
    "\n",
    "The three-block data structure: system, state and data.\n",
    "- **`system`**: static, not changed during MC update, defines the system. \n",
    "  - The full set of system parameters are specified by the Model class attribute `Model.system_parameters`\n",
    "  - During the temperature ramping, only `klst` will change. The other parameters are fixed by the lattice graph and on-site group.\n",
    "- **`state`**: dynamic, updated by MC sampling.\n",
    "  - Can be kept for future restart of the Markov chain.\n",
    "- **`data`**: disposible, generated by the `measure` method."
   ]
  },
  {
   "cell_type": "markdown",
   "metadata": {},
   "source": [
    "Mapping the attributes between **MC** (**FORTRAN** module) and **Model** (**python** object):\n",
    "- The system and state parameters are linked (as inout) between MC and Model.\n",
    "- The data parameters are output from MC to Model after each measurement.\n",
    "\n",
    "\n",
    "    MC                                                        Model\n",
    "    +- MC.core                                   Model.system[:] -+\n",
    "    |  +- MC.core.dof                 <==>   Model.dof        -+  |\n",
    "    |  +- MC.core.nsite               <==>   Model.nsite      -+  |\n",
    "    |  +- MC.core.na                  <==>   Model.na         -+  |\n",
    "    |  +- MC.core.nb                  <==>   Model.nb         -+  |\n",
    "    |  +- MC.core.nc                  <==>   Model.nc         -+  |\n",
    "    |  +- MC.core.nlst                <==>   Model.nlst       -+  |\n",
    "    |  +- MC.core.chi[:dof,:dof]      <==>   Model.chi        -+  |\n",
    "    |  +- MC.core.irng[:nsite+1]      <==>   Model.irng       -+  |\n",
    "    |  +- MC.core.jlst[:nlst]         <==>   Model.jlst       -+  |\n",
    "    |  +- MC.core.klst[:nlst]         <==>   Model.klst       -+  |\n",
    "    |  |                                          Model.state[:] -+\n",
    "    |  +- MC.core.action              <==>   Model.action     -+  |\n",
    "    |  +- MC.core.beta                <==>   Model.beta       -+  |\n",
    "    |  +- MC.core.config[:nsite]      <==>   Model.config     -+  |\n",
    "    |  +- MC.core.hist[:dof]          <==>   Model.hist       -+  |\n",
    "    +- MC.data                                     Model.data[:] -+  \n",
    "       +- MC.data.nspin                                        |  |\n",
    "       +- MC.data.monitor[:nspin]                              |  |\n",
    "       +- MC.data.energy1            ===> Model.data[energy1] -+  |\n",
    "       +- MC.data.energy2            ===> Model.data[energy2] -+  |\n",
    "       +- MC.data.magnet1[:dof]      ===> Model.data[magnet1] -+  |\n",
    "       +- MC.data.magnet2[:dof,:dof] ===> Model.data[magnet2] -+  |\n",
    "       +- MC.data.spins[:dof,:nspin] ===>   Model.data[spins] -+  |\n",
    "       |                                    Model.data[steps] -+  |\n",
    "       |                                         Model.series[:] -+\n",
    "       +- MC.data.nts                ===>    Model.nts        -+\n",
    "       +- MC.data.ets[:nts]          ===>    Model.ets        -+\n",
    "       +- Mc.data.mts[:dof,:nts]     ===>    Model.mts        -+"
   ]
  },
  {
   "cell_type": "markdown",
   "metadata": {},
   "source": [
    "Notes:\n",
    "- The `Model` attributes *do not physically exist*. They are accessed by `getattr` and `setattr` methods. The system and state attributes can be set as a whole by passing the dictionary. The data attributs are read only, setting `Model.data` will not affect the variables in the MC module.\n",
    "- `Model` object provides **state parameter parsing**.\n",
    "  - `action='unknown'`: call `get_action()` to initialize.\n",
    "  - `beta='default'`: set `beta` = 1.\n",
    "  - `config='FM','uniform'`: initialize with 0's; `'PM','random'`: initialize with random spins from `range(dof)`.\n",
    "  - `hist='unknown'`: allocate `hist` and then call `get_hist()` to initialize.\n",
    "- When attribute getter is called to get `action` and `hist`, it is first checked whether they have been calculated, if not, will evoke MC module (by calling `MC.core.get_action()` or `.get_hist()`) to calculate and then return.\n",
    "- `MC.core.dump()` and `MC.core.load()` can be called to dump/load core variables.\n",
    "- `MC.core.seed(x)` seed the random number generator by `x`."
   ]
  },
  {
   "cell_type": "markdown",
   "metadata": {},
   "source": [
    "#### Methods\n",
    "\n",
    "`Model.run(steps)` just runs the MC updates for specific `steps`.\n",
    "\n",
    "`Model.measure(step, monitor)` runs MC updates for specific `steps`, and returns the measurement on the samples of:\n",
    "- energy density 1st and 2nd moment: $\\langle e\\rangle$, $\\langle e^2\\rangle$ (where $e=S/(\\beta N)$ is the energy density over all sites including the boundary).\n",
    "- magnetization density 1st and 2nd moment: $\\langle m\\rangle$, $\\langle m^2\\rangle$ (where $m=N_{A\\cup B}^{-1}\\sum_{i\\in A\\cup B} g_i$ and $g_i$ is represented as a vector in the canonical representation).\n",
    "  - the 2nd moment $\\langle m^2\\rangle$ is a matrix, containing infomations of cross correlation.\n",
    "- specific spins (averged over samples), spin indices are specified by <code>monitor</code>, and the number of spin to monitor is specified by <code>nspin</code>.\n",
    "- the number of steps (samples) is also returned, such that the data can be combined with previous measurements properly, as weighted by the number of samples."
   ]
  },
  {
   "cell_type": "code",
   "execution_count": 297,
   "metadata": {
    "collapsed": true
   },
   "outputs": [],
   "source": [
    "%matplotlib inline\n",
    "import matplotlib.pyplot as plt\n",
    "%run 'MonteCarlo.py'\n",
    "mdl = LatticeModel(SquareLattice(32,[1.]),Group(2))"
   ]
  },
  {
   "cell_type": "code",
   "execution_count": 498,
   "metadata": {
    "collapsed": true
   },
   "outputs": [],
   "source": [
    "#mdl.beta = 0.0001\n",
    "#MC.core.run(10)\n",
    "mdl.beta = 0.8\n",
    "MC.data.collect(10000)"
   ]
  },
  {
   "cell_type": "code",
   "execution_count": 431,
   "metadata": {
    "collapsed": false
   },
   "outputs": [
    {
     "data": {
      "image/png": "[encoded data removed]",
      "text/plain": [
       "<matplotlib.figure.Figure at 0x11944b9b0>"
      ]
     },
     "metadata": {},
     "output_type": "display_data"
    }
   ],
   "source": [
    "#plt.plot(numpy.array(list(range(MC.data.nser))), MC.data.mser[0]-MC.data.mser[1])\n",
    "plt.plot(numpy.array(list(range(MC.data.nser))), MC.data.eser)\n",
    "#plt.plot(numpy.array(list(range(MC.data.nser))), numpy.power(MC.data.mser[0],2))\n",
    "#plt.plot(numpy.array(list(range(MC.data.nser))), MC.data.mser[0]*MC.data.mser[1])\n",
    "plt.ylim(-1.2,1.2);"
   ]
  },
  {
   "cell_type": "code",
   "execution_count": 336,
   "metadata": {
    "collapsed": false
   },
   "outputs": [
    {
     "data": {
      "text/plain": [
       "0.0023197378"
      ]
     },
     "execution_count": 336,
     "metadata": {},
     "output_type": "execute_result"
    }
   ],
   "source": []
  },
  {
   "cell_type": "code",
   "execution_count": 479,
   "metadata": {
    "collapsed": false
   },
   "outputs": [
    {
     "data": {
      "text/plain": [
       "10"
      ]
     },
     "execution_count": 479,
     "metadata": {},
     "output_type": "execute_result"
    }
   ],
   "source": [
    "k = 100\n",
    "vari = numpy.var(MC.data.eser)\n",
    "len(numpy.apply_along_axis(numpy.mean,1,MC.data.eser.reshape(MC.data.nser//k,k)))"
   ]
  },
  {
   "cell_type": "code",
   "execution_count": 527,
   "metadata": {
    "collapsed": false
   },
   "outputs": [
    {
     "data": {
      "text/plain": [
       "(0.0014081466, 0.00017108455, 12.149626769826801, 1.7108455358538777e-06)"
      ]
     },
     "execution_count": 527,
     "metadata": {},
     "output_type": "execute_result"
    }
   ],
   "source": [
    "k = 100\n",
    "N = MC.data.nser\n",
    "NB = N//k\n",
    "vari = numpy.var(MC.data.eser)\n",
    "varB = numpy.var(numpy.apply_along_axis(numpy.mean,1,numpy.reshape(MC.data.eser,(NB,k))))\n",
    "vari, varB, k*varB/vari, varB/NB"
   ]
  },
  {
   "cell_type": "code",
   "execution_count": 528,
   "metadata": {
    "collapsed": false
   },
   "outputs": [
    {
     "data": {
      "text/plain": [
       "(0.0014081466, 1.7281149151671116e-06, 12.272265844369343)"
      ]
     },
     "execution_count": 528,
     "metadata": {},
     "output_type": "execute_result"
    }
   ],
   "source": [
    "k = 100\n",
    "N = MC.data.nser\n",
    "NB = N//k\n",
    "vari = numpy.var(MC.data.eser)\n",
    "avgB = numpy.apply_along_axis(numpy.mean,1,numpy.reshape(MC.data.eser,(MC.data.nser//k,k)))\n",
    "avg = numpy.mean(avgB)\n",
    "var = (NB-1)*numpy.var((N*avg-k*avgB)/(N-k))\n",
    "vari, var, N*var/vari"
   ]
  },
  {
   "cell_type": "code",
   "execution_count": 442,
   "metadata": {
    "collapsed": false
   },
   "outputs": [
    {
     "data": {
      "text/plain": [
       "100000"
      ]
     },
     "execution_count": 442,
     "metadata": {},
     "output_type": "execute_result"
    }
   ],
   "source": [
    "len(MC.data.eser)"
   ]
  },
  {
   "cell_type": "code",
   "execution_count": 63,
   "metadata": {
    "collapsed": false
   },
   "outputs": [
    {
     "name": "stdout",
     "output_type": "stream",
     "text": [
      "[136 120] 5747.92\n",
      "[0 1 1 0 0 0 1 0 1 0 1 0 0 0 0 0]\n",
      "[1 0 0 1 1 1 1 0 0 0 0 1 1 0 1 0]\n",
      "[0 1 0 0 1 1 0 1 0 1 0 0 0 1 0 0]\n",
      "[1 1 0 0 1 1 0 1 0 1 1 0 0 1 1 1]\n",
      "[1 0 1 0 1 1 0 0 0 1 0 0 1 0 0 0]\n",
      "[1 0 0 1 1 0 1 0 1 1 0 1 1 0 0 1]\n",
      "[1 1 1 1 0 0 1 0 1 1 0 1 0 1 0 0]\n",
      "[0 0 0 1 1 1 0 0 1 0 0 1 1 1 0 0]\n",
      "[1 0 0 1 0 0 0 0 1 0 1 1 1 0 1 1]\n",
      "[0 0 0 0 0 1 0 1 0 1 0 1 1 1 1 1]\n",
      "[1 1 0 0 0 0 0 0 1 1 0 0 0 0 1 0]\n",
      "[0 1 0 1 1 0 1 1 0 0 1 0 1 1 0 1]\n",
      "[1 1 1 1 1 0 1 0 0 1 0 0 1 0 0 1]\n",
      "[0 0 1 1 1 0 1 0 1 0 1 0 1 0 0 1]\n",
      "[1 1 0 1 0 0 1 0 1 0 0 0 1 0 1 0]\n",
      "[0 0 0 1 0 0 1 0 1 1 0 0 1 0 1 0]\n"
     ]
    }
   ],
   "source": [
    "print(mdl.hist,'%0.2f'%(mdl.action/mdl.beta))\n",
    "for x in range(mdl.lattice.L):\n",
    "    print(mdl.config[[mdl.lattice[(x,y)].index for y in range(mdl.lattice.L)]])"
   ]
  },
  {
   "cell_type": "markdown",
   "metadata": {},
   "source": [
    "#### Core Performance\n",
    "\n",
    "**Heat-Bath** update: on each site $i$, randomly draw a new spin state $g_i$ (regardless of the previous spin state) with probability:\n",
    "$$p(g_i)=\\frac{e^{h(g_i)}}{\\sum_{g'_i}e^{h(g'_i)}}, h(g_i)=\\sum_{j \\text{n.n.}i}K_{ij}\\chi(g_i,g_j).$$\n",
    "\n",
    "**Block-Gibbs** sampling: spins in the same sublattice are block-updated.\n",
    "- For A sublattice: `I=1:NA`\n",
    "- For B sublattice: `I=NA+1:NA+NB`."
   ]
  },
  {
   "cell_type": "markdown",
   "metadata": {},
   "source": [
    "FROTRAN implementation (for each spin update):\n",
    "- `RAND_NUMBER`: initialize `RND` by a random real drawn from the uniform distribution in $[0,1]$. gfortran implements KISS random number generator, $2^{123}$.\n",
    "- `SET_BLOCK`: sets the cumulated weights and renoralized random real\n",
    "  - `SET_BIAS`: calculate the on-site bias fields (site indexed by `I`) as `sum(CHI[:,CONFIG[JLST[J]]]*KLST[J] for J in range(IRNG[I],IRNG[I+1]))`. The result is a vector of `DOF` components, which specify the bias field for all group elements.\n",
    "  - `SET_WEIGHT`: exponentiate the bias fields and accumulate to unormalized CDF weights. The time of this step can vary from 4ns to 10ns depending on the value of the exponent. `EXP(x)` has a quick return for `x=0` but slower for generic `x`. The last compunent is the total partition weight.\n",
    "  - `RND *= WEIGHT[-1]`: the random real is then multiplied by the total partition weight, such that it is distributed uniformly from 0 to the total weight.\n",
    "- `CHOOSE`: `WEIGHT` and `RND` is then used to make choice of the new spin state, implemented by a binary serach to determine which bin in `WEIGHT` does `RND` fall into."
   ]
  },
  {
   "cell_type": "markdown",
   "metadata": {},
   "source": [
    "In each step (sweep) of MC sampling, the *entire bulk is updated* (which contains two block Gibbs sampling: A-given-B and B-given-A). Measurements are made after the bulk update, so the measurement time is neglegable. For one MC step, the complexity depends on:\n",
    "- $N$ - the number of bulk sites.\n",
    "- $n!$ - group order (onsite degrees of freedom)."
   ]
  },
  {
   "cell_type": "markdown",
   "metadata": {},
   "source": [
    "<table align=\"left\">\n",
    "<tr><td>procedure</td><td>complexity</td><td>time<sup>1</sup>(ns)</td><td>time<sup>2</sup>(ns)</td></tr>\n",
    "<tr><td><code>RAND_NUMBER</code></td><td>$N$</td><td>5.0</td><td>13.8</td></tr>\n",
    "<tr><td><code>SET_BLOCK</code></td><td>~$Nn!$</td><td>8.8</td><td>12.1</td></tr>\n",
    "<tr><td><code>    SET_BIAS</code></td><td>$Nn!$</td><td>1.3</td><td>2.3</td></tr>\n",
    "<tr><td><code>    SET_WEIGHT</code></td><td>$Nn!$</td><td>7.5</td><td>9.8</td></tr>\n",
    "<tr><td><code>        EXP</code></td><td>$Nn!$</td><td>6.7</td><td>8.0</td></tr>\n",
    "<tr><td><code>    RND</code></td><td>$N$</td><td>2.1</td><td>2.1</td></tr>\n",
    "<tr><td><code>CHOOSE</code></td><td>$N\\log(n!)$</td><td>5.0</td><td>5.6</td></tr>\n",
    "</table>"
   ]
  },
  {
   "cell_type": "markdown",
   "metadata": {},
   "source": [
    "Average update time per spin scales with $n$ as:\n",
    "<table align=\"left\">\n",
    "<tr><td>$n=$</td><td>2</td><td>3</td><td>4</td><td>5</td><td>6</td></tr>\n",
    "<tr><td>time<sup>1</sup>(μs)</td><td>0.049</td><td>0.10</td><td>0.27</td><td>1.10</td><td>7.1</td></tr>\n",
    "<tr><td>time<sup>2</sup>(μs)</td><td>0.056</td><td>0.12</td><td>0.35</td><td>1.52</td><td>9.1</td></tr>\n",
    "</table>"
   ]
  },
  {
   "cell_type": "markdown",
   "metadata": {},
   "source": [
    "CPU: 3GHz Intel Core i7. time<sup>1</sup>: *single* precision real (32bit), time<sup>2</sup>: *double* precision real (64bit)"
   ]
  },
  {
   "cell_type": "markdown",
   "metadata": {},
   "source": [
    "**Profiling** code:"
   ]
  },
  {
   "cell_type": "code",
   "execution_count": 3,
   "metadata": {
    "collapsed": false
   },
   "outputs": [
    {
     "name": "stdout",
     "output_type": "stream",
     "text": [
      " \n",
      "*** Profile stats marshalled to file '/var/folders/lt/kgph6qbj6y306pfhbyd1kn2r0000gn/T/tmphhjwo7yx'. \n"
     ]
    }
   ],
   "source": [
    "%reload_ext snakeviz\n",
    "%run 'MonteCarlo.py'\n",
    "%snakeviz LatticeModel(SquareLattice(100,[0.72]),Group(3)).run(1000,0)"
   ]
  },
  {
   "cell_type": "markdown",
   "metadata": {},
   "source": [
    "#### Model Construction\n",
    "\n",
    "- **`Model(system,state,data)`** creates a wrapper of the `MC` module.\n",
    "  - `system` argument is required, passed in as a dictionary, which must contains all the keys specified in the class variable `Model.system_parameters` (`ValueError` will be raised if any key missing).\n",
    "  - `state` and `data` arguments are optional.\n",
    "  - This construction is useful to reload the model and continue the simulation from saved states.\n",
    "- **`LattticeModel(lattice,group)`** creates a initialized model from `lattice` and `group`, as an inheritance of `Model`.\n",
    "  - `lattice` is a `Lattice` object and `group` is a `Group` object. They provide the necessary data to build a model."
   ]
  },
  {
   "cell_type": "code",
   "execution_count": 17,
   "metadata": {
    "collapsed": false
   },
   "outputs": [
    {
     "data": {
      "text/plain": [
       "<MonteCarlo.LatticeModel at 0x111817860>"
      ]
     },
     "execution_count": 17,
     "metadata": {},
     "output_type": "execute_result"
    }
   ],
   "source": [
    "LatticeModel(HypertreeLattice(4,[1.,0.2]),Group(2))"
   ]
  },
  {
   "cell_type": "markdown",
   "metadata": {
    "collapsed": false
   },
   "source": [
    "## Square Lattice Model"
   ]
  },
  {
   "cell_type": "markdown",
   "metadata": {},
   "source": [
    "### Example"
   ]
  },
  {
   "cell_type": "code",
   "execution_count": 99,
   "metadata": {
    "collapsed": false
   },
   "outputs": [
    {
     "name": "stdout",
     "output_type": "stream",
     "text": [
      "[67 33] 68.00\n",
      "[0 0 1 1 1 1 0 0 0 0]\n",
      "[0 0 0 1 0 1 0 0 0 1]\n",
      "[1 0 0 0 0 1 1 0 1 1]\n",
      "[0 0 0 0 0 1 1 1 0 1]\n",
      "[0 0 0 0 0 0 1 1 0 0]\n",
      "[0 0 0 0 1 1 1 1 0 1]\n",
      "[0 0 0 0 0 0 0 0 0 0]\n",
      "[1 0 0 0 1 0 1 0 1 0]\n",
      "[0 0 1 1 1 1 0 0 0 0]\n",
      "[0 0 0 1 1 0 0 0 0 0]\n",
      "energy1 : 0.5524380207061768\n",
      "energy2 : 0.31614381074905396\n",
      "magnet1 : [ 0.48172837  0.51827192]\n",
      "magnet2 : [[ 0.26830018  0.21343513]\n",
      " [ 0.21343513  0.3048453 ]]\n"
     ]
    }
   ],
   "source": [
    "mdl = LatticeModel(SquareLattice(10,[1.]),Group(2))\n",
    "#MC.core.seed(24)\n",
    "mdl.beta = 0.7\n",
    "mdl.run(1000)\n",
    "print(mdl.hist,'%0.2f'%(mdl.action/mdl.beta))\n",
    "for x in range(mdl.lattice.L):\n",
    "    print(mdl.config[[mdl.lattice[(x,y)].index for y in range(mdl.lattice.L)]])\n",
    "mdl.measure(10000)\n",
    "for key in ('energy1','energy2','magnet1','magnet2'):\n",
    "    print(key,':',mdl.data[key])"
   ]
  },
  {
   "cell_type": "markdown",
   "metadata": {},
   "source": [
    "## Hypertree Model"
   ]
  },
  {
   "cell_type": "markdown",
   "metadata": {},
   "source": [
    "### Example\n",
    "Generate model, run, get hist and energy, make measurements.\n",
    "- use **block Gibbs sampling** + **heatbath update**, alternatively sampling on A and B sublattices.\n",
    "  - A sublattice is the one that contains the most UV layer\n",
    "  - B sublattice contains the rest\n",
    "  - the boundary is labeled by C\n",
    "- energy density is calculated for all sites including the boundary spins.\n",
    "- hist and magnetization only conts the bulk spins, boundary spins are not taken into account."
   ]
  },
  {
   "cell_type": "code",
   "execution_count": 18,
   "metadata": {
    "collapsed": false
   },
   "outputs": [
    {
     "name": "stdout",
     "output_type": "stream",
     "text": [
      "[5 5 5 3 5 0 5 5 0 0 0 0] [1 0 0 1 0 6] 10.799999999999999\n",
      "[0 5 5 4 1 0 2 5 0 0 0 0] [2 1 1 0 1 3] 13.2\n",
      "[0 3 4 0 0 0 1 5 0 0 0 0] [4 1 0 1 1 1] 10.4\n",
      "[0 3 4 0 0 0 1 4 0 0 0 0] [4 1 0 1 2 0] 10.0\n",
      "[0 4 1 1 0 0 1 3 0 0 0 0] [3 3 0 1 1 0] 9.6\n",
      "[0 2 2 0 2 0 2 2 0 0 0 0] [3 0 5 0 0 0] 10.8\n",
      "[0 4 2 1 0 0 2 0 0 0 0 0] [4 1 2 0 1 0] 9.200000000000001\n",
      "[1 3 2 5 0 0 2 4 0 0 0 0] [2 1 2 1 1 1] 12.000000000000002\n",
      "[0 5 2 3 0 0 1 3 0 0 0 0] [3 1 1 2 0 1] 11.200000000000003\n",
      "[0 3 1 4 0 0 1 1 0 0 0 0] [3 3 0 1 1 0] 8.400000000000004\n"
     ]
    },
    {
     "data": {
      "text/plain": [
       "{'energy1': 11.225199999999987,\n",
       " 'energy2': 131.27855999999952,\n",
       " 'magnet1': array([ 0.419125,  0.137375,  0.14325 ,  0.084125,  0.084625,  0.1315  ]),\n",
       " 'magnet2': array([[ 0.20951563,  0.04964063,  0.05325   ,  0.02954688,  0.02940625,\n",
       "          0.04776562],\n",
       "        [ 0.04964063,  0.03904688,  0.01346875,  0.01059375,  0.01032813,\n",
       "          0.01429688],\n",
       "        [ 0.05325   ,  0.01346875,  0.0421875 ,  0.01125   ,  0.00960937,\n",
       "          0.01348437],\n",
       "        [ 0.02954688,  0.01059375,  0.01125   ,  0.01842188,  0.00528125,\n",
       "          0.00903125],\n",
       "        [ 0.02940625,  0.01032813,  0.00960937,  0.00528125,  0.01995312,\n",
       "          0.01004688],\n",
       "        [ 0.04776562,  0.01429688,  0.01348437,  0.00903125,  0.01004688,\n",
       "          0.036875  ]]),\n",
       " 'spins': array([[ 0.576,  0.247,  0.235,  0.188],\n",
       "        [ 0.128,  0.158,  0.158,  0.176],\n",
       "        [ 0.117,  0.165,  0.184,  0.178],\n",
       "        [ 0.032,  0.123,  0.125,  0.146],\n",
       "        [ 0.039,  0.118,  0.142,  0.149],\n",
       "        [ 0.108,  0.189,  0.156,  0.163]]),\n",
       " 'steps': 1000}"
      ]
     },
     "execution_count": 18,
     "metadata": {},
     "output_type": "execute_result"
    }
   ],
   "source": [
    "mdl = LatticeModel(HypertreeLattice(4,[1.,0.2]),Group(3)).run(100)\n",
    "for k in range(10):\n",
    "    mdl.run()\n",
    "    print(mdl.config,mdl.hist,mdl.energy)\n",
    "mdl.measure(1000,monitor=[0,1,2,3])"
   ]
  },
  {
   "cell_type": "code",
   "execution_count": null,
   "metadata": {
    "collapsed": true
   },
   "outputs": [],
   "source": []
  }
 ],
 "metadata": {
  "kernelspec": {
   "display_name": "Python 3",
   "language": "python",
   "name": "python3"
  },
  "language_info": {
   "codemirror_mode": {
    "name": "ipython",
    "version": 3
   },
   "file_extension": ".py",
   "mimetype": "text/x-python",
   "name": "python",
   "nbconvert_exporter": "python",
   "pygments_lexer": "ipython3",
   "version": "3.5.1"
  }
 },
 "nbformat": 4,
 "nbformat_minor": 0
}
